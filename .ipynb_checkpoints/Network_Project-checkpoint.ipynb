{
 "cells": [
  {
   "cell_type": "code",
   "execution_count": null,
   "metadata": {},
   "outputs": [],
   "source": [
    "import collections\n",
    "user_dic = collections.defaultdict(int)\n",
    "song_dic = collections.defaultdict(int)\n",
    "edge_list = []\n",
    "with open('data/train_triplets.txt', 'r') as f:\n",
    "    for idx, line in enumerate(f.readlines()):\n",
    "        if idx % 100000 == 0:\n",
    "            print('idx:', idx)\n",
    "        line = line.strip()\n",
    "        fields = line.split('\\t')\n",
    "        user, song, weight = fields[0], fields[1], int(fields[2])\n",
    "        user_dic[user] += 1\n",
    "        song_dic[song] += 1\n",
    "        edge_list.append((user, song, weight))\n",
    "        line = f.readline()\n"
   ]
  },
  {
   "cell_type": "markdown",
   "metadata": {},
   "source": [
    "### Visualize User/Song Distribution"
   ]
  },
  {
   "cell_type": "code",
   "execution_count": null,
   "metadata": {},
   "outputs": [],
   "source": [
    "print('total number of users:', len(user_dic))\n",
    "count = 0\n",
    "for user in user_dic:\n",
    "    if user_dic[user] > 1:\n",
    "        count += 1\n",
    "print('number of users with listen > 1:', count)"
   ]
  },
  {
   "cell_type": "code",
   "execution_count": null,
   "metadata": {
    "scrolled": true
   },
   "outputs": [],
   "source": [
    "import numpy as np\n",
    "print('user 10 percentile:', np.percentile(list(user_dic.values()), 10))\n",
    "print('user 90 percentile:', np.percentile(list(user_dic.values()), 90))\n",
    "print('song 10 percentile:', np.percentile(list(song_dic.values()), 10))\n",
    "print('song 90 percentile:', np.percentile(list(song_dic.values()), 90))"
   ]
  },
  {
   "cell_type": "code",
   "execution_count": null,
   "metadata": {},
   "outputs": [],
   "source": [
    "import pandas as pd\n",
    "\n",
    "user_df = pd.DataFrame.from_dict(user_dic, orient='index')\n",
    "user_df = user_df.reset_index()\n",
    "user_df.columns = ['user_id', 'songs_listened']\n",
    "user_df.head()"
   ]
  },
  {
   "cell_type": "code",
   "execution_count": null,
   "metadata": {},
   "outputs": [],
   "source": [
    "selected_user_df = user_df.loc[((user_df.songs_listened > 12) & (user_df.songs_listened < 105)), :]"
   ]
  },
  {
   "cell_type": "code",
   "execution_count": null,
   "metadata": {},
   "outputs": [],
   "source": [
    "song_df = pd.DataFrame.from_dict(song_dic, orient='index')\n",
    "song_df = song_df.reset_index()\n",
    "song_df.columns = ['song_id', 'num_of_listened']\n",
    "song_df.head()"
   ]
  },
  {
   "cell_type": "code",
   "execution_count": null,
   "metadata": {},
   "outputs": [],
   "source": [
    "selected_song_df = song_df.loc[((song_df.num_of_listened > 2) & (song_df.num_of_listened < 218)), :]"
   ]
  },
  {
   "cell_type": "code",
   "execution_count": null,
   "metadata": {},
   "outputs": [],
   "source": [
    "triplet_df = pd.DataFrame(edge_list, columns=['user', 'song', 'weight'])\n",
    "triplet_df.head()"
   ]
  },
  {
   "cell_type": "code",
   "execution_count": null,
   "metadata": {},
   "outputs": [],
   "source": [
    "selected_triplet_df = triplet_df.loc[((triplet_df.user.isin(selected_user_df['user_id'])) & (triplet_df.song.isin(selected_song_df['song_id']))), :]\n",
    "selected_triplet_df.head()"
   ]
  },
  {
   "cell_type": "code",
   "execution_count": null,
   "metadata": {},
   "outputs": [],
   "source": [
    "selected_triplet_df.to_csv('selected_triplet.csv', index=False)"
   ]
  },
  {
   "cell_type": "code",
   "execution_count": null,
   "metadata": {},
   "outputs": [],
   "source": [
    "import numpy as np\n",
    "\n",
    "print('User Distribution')\n",
    "user_distribution = list(user_dic.values())\n",
    "print('mean number of listen:', np.mean(user_distribution))\n",
    "print('median numer of listen:', np.median(user_distribution))\n",
    "print('max number of listen:', np.max(user_distribution))\n",
    "print('min number of listen:', np.min(user_distribution))\n",
    "print('------------------')\n",
    "print('Song Distribution')\n",
    "song_distribution = list(song_dic.values())\n",
    "print('mean number of listened song:', np.mean(song_distribution))\n",
    "print('median number of listened song:', np.median(song_distribution))\n",
    "print('max number of listened song:', np.max(song_distribution))\n",
    "print('min number of listened song:', np.min(song_distribution))"
   ]
  },
  {
   "cell_type": "code",
   "execution_count": null,
   "metadata": {
    "scrolled": false
   },
   "outputs": [],
   "source": [
    "import matplotlib.pyplot as plt\n",
    "\n",
    "fig = plt.figure(figsize=(16,8))\n",
    "plt.subplot(121)\n",
    "plt.title('User Distribution')\n",
    "plt.xlabel('Number of songs')\n",
    "plt.hist(list(user_dic.values()), bins=100, log=True)\n",
    "plt.subplot(122)\n",
    "plt.title('Song Distribution')\n",
    "plt.xlabel('Number of listened')\n",
    "plt.hist(list(song_dic.values()), bins=100, log=True)\n",
    "plt.show()\n"
   ]
  },
  {
   "cell_type": "markdown",
   "metadata": {},
   "source": [
    "### Create Graph"
   ]
  },
  {
   "cell_type": "code",
   "execution_count": null,
   "metadata": {},
   "outputs": [],
   "source": [
    "import networkx as nx\n",
    "\n",
    "def get_edgelist():\n",
    "    edge_list = []\n",
    "    with open('data/train_triplets.txt', 'r') as f:\n",
    "        count = 0\n",
    "        line = f.readline()\n",
    "        while line:\n",
    "            line = line.strip()\n",
    "            fields = line.split('\\t')\n",
    "            user, song, weight = fields[0], fields[1], int(fields[2])\n",
    "            edge_list.append((user, song, weight))\n",
    "            line = f.readline()\n",
    "            count += 1\n",
    "            if count > 100:\n",
    "                break\n",
    "    return edge_list\n",
    "\n",
    "G = nx.Graph()\n",
    "edge_list = get_edgelist()\n",
    "for user, song, weight in edge_list:\n",
    "    G.add_edge(user, song, weight=weight)"
   ]
  },
  {
   "cell_type": "code",
   "execution_count": null,
   "metadata": {},
   "outputs": [],
   "source": [
    "nx.draw(G)"
   ]
  },
  {
   "cell_type": "code",
   "execution_count": null,
   "metadata": {},
   "outputs": [],
   "source": [
    "edge_list"
   ]
  },
  {
   "cell_type": "code",
   "execution_count": null,
   "metadata": {},
   "outputs": [],
   "source": [
    "G = nx.Graph()\n",
    "G.add_edges_from([(1,2),(2,3)], weight=2)"
   ]
  },
  {
   "cell_type": "code",
   "execution_count": null,
   "metadata": {},
   "outputs": [],
   "source": []
  }
 ],
 "metadata": {
  "kernelspec": {
   "display_name": "Python 3",
   "language": "python",
   "name": "python3"
  },
  "language_info": {
   "codemirror_mode": {
    "name": "ipython",
    "version": 3
   },
   "file_extension": ".py",
   "mimetype": "text/x-python",
   "name": "python",
   "nbconvert_exporter": "python",
   "pygments_lexer": "ipython3",
   "version": "3.7.3"
  }
 },
 "nbformat": 4,
 "nbformat_minor": 2
}
