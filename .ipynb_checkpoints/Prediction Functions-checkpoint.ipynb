{
 "cells": [
  {
   "cell_type": "code",
   "execution_count": 1,
   "metadata": {},
   "outputs": [],
   "source": [
    "import numpy as np\n",
    "import pandas as pd\n",
    "import networkx as nx\n",
    "from joblib import Parallel, delayed"
   ]
  },
  {
   "cell_type": "markdown",
   "metadata": {},
   "source": [
    "### Create Graph as dictionary"
   ]
  },
  {
   "cell_type": "code",
   "execution_count": 2,
   "metadata": {},
   "outputs": [
    {
     "data": {
      "text/html": [
       "<div>\n",
       "<style scoped>\n",
       "    .dataframe tbody tr th:only-of-type {\n",
       "        vertical-align: middle;\n",
       "    }\n",
       "\n",
       "    .dataframe tbody tr th {\n",
       "        vertical-align: top;\n",
       "    }\n",
       "\n",
       "    .dataframe thead th {\n",
       "        text-align: right;\n",
       "    }\n",
       "</style>\n",
       "<table border=\"1\" class=\"dataframe\">\n",
       "  <thead>\n",
       "    <tr style=\"text-align: right;\">\n",
       "      <th></th>\n",
       "      <th>user</th>\n",
       "      <th>song</th>\n",
       "      <th>weight</th>\n",
       "    </tr>\n",
       "  </thead>\n",
       "  <tbody>\n",
       "    <tr>\n",
       "      <th>0</th>\n",
       "      <td>b80344d063b5ccb3212f76538f3d9e43d87dca9e</td>\n",
       "      <td>SOBNZDC12A6D4FC103</td>\n",
       "      <td>1</td>\n",
       "    </tr>\n",
       "    <tr>\n",
       "      <th>1</th>\n",
       "      <td>b80344d063b5ccb3212f76538f3d9e43d87dca9e</td>\n",
       "      <td>SOBVFZR12A6D4F8AE3</td>\n",
       "      <td>1</td>\n",
       "    </tr>\n",
       "    <tr>\n",
       "      <th>2</th>\n",
       "      <td>b80344d063b5ccb3212f76538f3d9e43d87dca9e</td>\n",
       "      <td>SOEGVZY12A58A7857E</td>\n",
       "      <td>1</td>\n",
       "    </tr>\n",
       "    <tr>\n",
       "      <th>3</th>\n",
       "      <td>b80344d063b5ccb3212f76538f3d9e43d87dca9e</td>\n",
       "      <td>SOEKWEA12A6D4F5DC3</td>\n",
       "      <td>1</td>\n",
       "    </tr>\n",
       "    <tr>\n",
       "      <th>4</th>\n",
       "      <td>b80344d063b5ccb3212f76538f3d9e43d87dca9e</td>\n",
       "      <td>SOEOBYG12A6D4F8AE2</td>\n",
       "      <td>1</td>\n",
       "    </tr>\n",
       "  </tbody>\n",
       "</table>\n",
       "</div>"
      ],
      "text/plain": [
       "                                       user                song  weight\n",
       "0  b80344d063b5ccb3212f76538f3d9e43d87dca9e  SOBNZDC12A6D4FC103       1\n",
       "1  b80344d063b5ccb3212f76538f3d9e43d87dca9e  SOBVFZR12A6D4F8AE3       1\n",
       "2  b80344d063b5ccb3212f76538f3d9e43d87dca9e  SOEGVZY12A58A7857E       1\n",
       "3  b80344d063b5ccb3212f76538f3d9e43d87dca9e  SOEKWEA12A6D4F5DC3       1\n",
       "4  b80344d063b5ccb3212f76538f3d9e43d87dca9e  SOEOBYG12A6D4F8AE2       1"
      ]
     },
     "execution_count": 2,
     "metadata": {},
     "output_type": "execute_result"
    }
   ],
   "source": [
    "df = pd.read_csv('./data/selected_triplet_new.csv') \n",
    "df.head()"
   ]
  },
  {
   "cell_type": "code",
   "execution_count": 3,
   "metadata": {},
   "outputs": [
    {
     "data": {
      "text/html": [
       "<div>\n",
       "<style scoped>\n",
       "    .dataframe tbody tr th:only-of-type {\n",
       "        vertical-align: middle;\n",
       "    }\n",
       "\n",
       "    .dataframe tbody tr th {\n",
       "        vertical-align: top;\n",
       "    }\n",
       "\n",
       "    .dataframe thead th {\n",
       "        text-align: right;\n",
       "    }\n",
       "</style>\n",
       "<table border=\"1\" class=\"dataframe\">\n",
       "  <thead>\n",
       "    <tr style=\"text-align: right;\">\n",
       "      <th></th>\n",
       "      <th>user</th>\n",
       "      <th>song</th>\n",
       "      <th>weight</th>\n",
       "    </tr>\n",
       "  </thead>\n",
       "  <tbody>\n",
       "    <tr>\n",
       "      <th>4011287</th>\n",
       "      <td>a263000355e6a46de29ec637820771ac7620369f</td>\n",
       "      <td>SONSTND12AB018516E</td>\n",
       "      <td>2368</td>\n",
       "    </tr>\n",
       "    <tr>\n",
       "      <th>629006</th>\n",
       "      <td>ebed4965c03cb572d599bd851108e7ff320c287e</td>\n",
       "      <td>SOGVKZV12A8C143863</td>\n",
       "      <td>2130</td>\n",
       "    </tr>\n",
       "    <tr>\n",
       "      <th>2744</th>\n",
       "      <td>0d0f80a34807aab31a3521424d456d30bf2c93d9</td>\n",
       "      <td>SOFRRFT12A8C140C5C</td>\n",
       "      <td>1890</td>\n",
       "    </tr>\n",
       "    <tr>\n",
       "      <th>297775</th>\n",
       "      <td>45d26d78fe726118497aca6de26a5b91a929fddf</td>\n",
       "      <td>SOZVPPQ12A8C13F7A8</td>\n",
       "      <td>1539</td>\n",
       "    </tr>\n",
       "    <tr>\n",
       "      <th>3449816</th>\n",
       "      <td>3eef9b511ae8b3bcf6adf0bccc6547b55bc447b2</td>\n",
       "      <td>SOXFQJW12A8C1335E2</td>\n",
       "      <td>1460</td>\n",
       "    </tr>\n",
       "    <tr>\n",
       "      <th>...</th>\n",
       "      <td>...</td>\n",
       "      <td>...</td>\n",
       "      <td>...</td>\n",
       "    </tr>\n",
       "    <tr>\n",
       "      <th>2208749</th>\n",
       "      <td>e587f88c3e16f21706f24e0265139eb7d6aac654</td>\n",
       "      <td>SOJSISI12A8AE49E2C</td>\n",
       "      <td>1</td>\n",
       "    </tr>\n",
       "    <tr>\n",
       "      <th>2208750</th>\n",
       "      <td>e587f88c3e16f21706f24e0265139eb7d6aac654</td>\n",
       "      <td>SOJXQSY12AB017E227</td>\n",
       "      <td>1</td>\n",
       "    </tr>\n",
       "    <tr>\n",
       "      <th>2208752</th>\n",
       "      <td>e587f88c3e16f21706f24e0265139eb7d6aac654</td>\n",
       "      <td>SOKOAYH12A58A7B270</td>\n",
       "      <td>1</td>\n",
       "    </tr>\n",
       "    <tr>\n",
       "      <th>2208754</th>\n",
       "      <td>e587f88c3e16f21706f24e0265139eb7d6aac654</td>\n",
       "      <td>SOLHUAX12A6D4F9A22</td>\n",
       "      <td>1</td>\n",
       "    </tr>\n",
       "    <tr>\n",
       "      <th>5354956</th>\n",
       "      <td>b7815dbb206eb2831ce0fe040d0aa537e2e800f7</td>\n",
       "      <td>SOTNMFD12A58A7789E</td>\n",
       "      <td>1</td>\n",
       "    </tr>\n",
       "  </tbody>\n",
       "</table>\n",
       "<p>5354957 rows × 3 columns</p>\n",
       "</div>"
      ],
      "text/plain": [
       "                                             user                song  weight\n",
       "4011287  a263000355e6a46de29ec637820771ac7620369f  SONSTND12AB018516E    2368\n",
       "629006   ebed4965c03cb572d599bd851108e7ff320c287e  SOGVKZV12A8C143863    2130\n",
       "2744     0d0f80a34807aab31a3521424d456d30bf2c93d9  SOFRRFT12A8C140C5C    1890\n",
       "297775   45d26d78fe726118497aca6de26a5b91a929fddf  SOZVPPQ12A8C13F7A8    1539\n",
       "3449816  3eef9b511ae8b3bcf6adf0bccc6547b55bc447b2  SOXFQJW12A8C1335E2    1460\n",
       "...                                           ...                 ...     ...\n",
       "2208749  e587f88c3e16f21706f24e0265139eb7d6aac654  SOJSISI12A8AE49E2C       1\n",
       "2208750  e587f88c3e16f21706f24e0265139eb7d6aac654  SOJXQSY12AB017E227       1\n",
       "2208752  e587f88c3e16f21706f24e0265139eb7d6aac654  SOKOAYH12A58A7B270       1\n",
       "2208754  e587f88c3e16f21706f24e0265139eb7d6aac654  SOLHUAX12A6D4F9A22       1\n",
       "5354956  b7815dbb206eb2831ce0fe040d0aa537e2e800f7  SOTNMFD12A58A7789E       1\n",
       "\n",
       "[5354957 rows x 3 columns]"
      ]
     },
     "execution_count": 3,
     "metadata": {},
     "output_type": "execute_result"
    }
   ],
   "source": [
    "df.sort_values('weight', ascending=False)"
   ]
  },
  {
   "cell_type": "code",
   "execution_count": 4,
   "metadata": {},
   "outputs": [],
   "source": [
    "user_dic = {}\n",
    "song_dic = {}\n",
    "for edge in df.values.tolist():\n",
    "    user_id, song_id, listened_count = edge[0], edge[1], edge[2]\n",
    "    if user_id not in user_dic:\n",
    "        user_dic[user_id] = {}\n",
    "    user_dic[user_id][song_id] = listened_count    \n",
    "    \n",
    "    if song_id not in song_dic:\n",
    "        song_dic[song_id] = {}\n",
    "    song_dic[song_id][user_id] = listened_count\n"
   ]
  },
  {
   "cell_type": "code",
   "execution_count": 5,
   "metadata": {},
   "outputs": [
    {
     "name": "stdout",
     "output_type": "stream",
     "text": [
      "b80344d063b5ccb3212f76538f3d9e43d87dca9e {'SOBNZDC12A6D4FC103': 1, 'SOBVFZR12A6D4F8AE3': 1, 'SOEGVZY12A58A7857E': 1, 'SOEKWEA12A6D4F5DC3': 1, 'SOEOBYG12A6D4F8AE2': 1, 'SOFFJPX12A6D4F7456': 1, 'SOFTKSZ12A6D4F5DC5': 1, 'SOFZFQU12A8C13CAB8': 1, 'SOHQIAG12A8C136F64': 1, 'SOHQZCA12A6D4FB317': 1, 'SOIAOBY12A8C13BF75': 1, 'SOIQOQT12A8C136F96': 1, 'SOKSIKA12A6D4F5DC7': 1, 'SONYTAN12A8C13BF88': 1, 'SOOSIVQ12A6D4F8AE0': 1, 'SOPBCSY12A6D4F5DC4': 1, 'SOQEMEN12A8C13BF8B': 1, 'SORDDVI12A8C136F53': 1, 'SORJNVW12A8C13BF90': 1, 'SORSAJY12A6D4F7457': 1, 'SOTCPHF12A8C13BF9B': 1, 'SOTHMIK12A8C136FA1': 1, 'SOUQUBU12AF72A47B3': 1, 'SOVAJXX12A8AE47D5C': 1, 'SOVZRXZ12A58A77A88': 1, 'SOXSPON12A6D4F5DC2': 1, 'SOZGCUB12A8C133997': 1, 'SOZZHXI12A8C13BF7D': 1}\n"
     ]
    }
   ],
   "source": [
    "for user, songs in user_dic.items():\n",
    "    print(user, songs)\n",
    "    break"
   ]
  },
  {
   "cell_type": "code",
   "execution_count": 6,
   "metadata": {},
   "outputs": [],
   "source": [
    "'''\n",
    "Calculates the sum of the weights of an edgeslist of the bipartite graph\n",
    "Takes in a list of edges (the ones adjacent to the user or the song.)\n",
    "'''\n",
    "\n",
    "def cal_adj_weights(dic):\n",
    "    total_weight = 0.0\n",
    "    for key, weight in dic.items():\n",
    "        total_weight += weight\n",
    "\n",
    "    return (total_weight)\n",
    "\n",
    "'''\n",
    "Finds the average number of song listens by a user u.\n",
    "bipart_g: is a weighted bipartite networkx Graph, where the weight = # of listens of song s by user u\n",
    "It returns 1 / |S_u| Σ r_(u,s) => the average listens for a user u\n",
    "'''\n",
    "\n",
    "def mean_ru(user_u):\n",
    "    songs_u = user_dic[user_u]\n",
    "    song_count = len(songs_u) # R_u\n",
    "    listen_count = cal_adj_weights(songs_u)\n",
    "    return (listen_count / song_count)\n",
    "\n",
    "\n",
    "'''\n",
    "Finds the 2-step random walk recommendation power for an arbitrary user v from a choosen user u\n",
    "We know both users u,v\n",
    "This is P(u -> s -> v), as this is a bipartite graph\n",
    "v is always 2 steps from u\n",
    "P(Transition from user u to song s) = r_(u,s) / R_u\n",
    "\n",
    "P(Transition from song s to user v) = r_(v,s) / R_s\n",
    "'''\n",
    "def rec_power_u_v(user_u, user_v):\n",
    "    songs_u = user_dic[user_u]\n",
    "    songs_v = user_dic[user_v]\n",
    "    \n",
    "    song_count_u = len(songs_u)\n",
    "    listen_count_u = cal_adj_weights(songs_u) # R_u\n",
    "    \n",
    "    running_value = 0.0\n",
    "    \n",
    "    for s in songs_u:\n",
    "        users_s = song_dic[s]\n",
    "        listen_count_s = cal_adj_weights(song_dic[s]) # R_s\n",
    "        \n",
    "        if user_v in users_s:\n",
    "            user_u_listens_s = user_dic[user_u][s] # r_{u,s}\n",
    "            user_v_listens_s = user_dic[user_v][s] # r_{v,s}\n",
    "            running_value += user_v_listens_s * user_u_listens_s / listen_count_s\n",
    "    return (running_value / listen_count_u)\n",
    "\n",
    "\n",
    "\n",
    "'''\n",
    "Predicts the number of listens that user u will give to song s\n",
    "'''\n",
    "def predict_listens(user_u, song_s, total_users):\n",
    "    u_bar = mean_ru(user_u)\n",
    "    running_value = 0.0\n",
    "    for v in total_users:\n",
    "        if v in song_dic[song_s]:\n",
    "            v_bar = mean_ru(v)\n",
    "            user_v_listens_s = user_dic[v][song_s]\n",
    "            rp_u_v = rec_power_u_v(user_u, v)\n",
    "            running_value += (rp_u_v * (user_v_listens_s - v_bar))            \n",
    "    return u_bar + running_value"
   ]
  },
  {
   "cell_type": "code",
   "execution_count": 8,
   "metadata": {},
   "outputs": [
    {
     "name": "stdout",
     "output_type": "stream",
     "text": [
      "1902.2455099505792\n"
     ]
    }
   ],
   "source": [
    "rating = predict_listens('a263000355e6a46de29ec637820771ac7620369f', 'SONSTND12AB018516E', list(user_dic.keys()))\n",
    "print(rating)"
   ]
  },
  {
   "cell_type": "code",
   "execution_count": 11,
   "metadata": {},
   "outputs": [],
   "source": [
    "def predict_wrapper(user_u, song_s, total_users):\n",
    "    pred_listen = predict_listens(user_u, song_s, total_users)\n",
    "    return (song_s, pred_listen)\n",
    "\n",
    "'''\n",
    "Parallel wrapper to predict the number of listens that a user will listen to a given song\n",
    "n = number of users to go through\n",
    "'''\n",
    "def song_wrapper(user, n, song_dic, user_dic):\n",
    "    song_dic_subset = list(song_dic.keys())[:n]\n",
    "    listens = Parallel(n_jobs = -1, verbose = 20, prefer='processes')(delayed(predict_wrapper)(user_u = user, song_s = song, total_users = user_dic) for song in song_dic_subset)\n",
    "    return listens"
   ]
  },
  {
   "cell_type": "code",
   "execution_count": 12,
   "metadata": {},
   "outputs": [
    {
     "name": "stderr",
     "output_type": "stream",
     "text": [
      "[Parallel(n_jobs=-1)]: Using backend LokyBackend with 12 concurrent workers.\n",
      "[Parallel(n_jobs=-1)]: Done   1 tasks      | elapsed:  1.0min\n",
      "[Parallel(n_jobs=-1)]: Done   2 out of  12 | elapsed:  2.0min remaining:  9.9min\n",
      "[Parallel(n_jobs=-1)]: Done   3 out of  12 | elapsed:  2.6min remaining:  7.7min\n",
      "[Parallel(n_jobs=-1)]: Done   4 out of  12 | elapsed:  3.1min remaining:  6.2min\n",
      "[Parallel(n_jobs=-1)]: Done   5 out of  12 | elapsed:  3.7min remaining:  5.1min\n",
      "[Parallel(n_jobs=-1)]: Done   6 out of  12 | elapsed:  4.2min remaining:  4.2min\n",
      "[Parallel(n_jobs=-1)]: Done   7 out of  12 | elapsed:  4.8min remaining:  3.4min\n",
      "[Parallel(n_jobs=-1)]: Done   8 out of  12 | elapsed:  5.4min remaining:  2.7min\n",
      "[Parallel(n_jobs=-1)]: Done   9 out of  12 | elapsed:  6.0min remaining:  2.0min\n",
      "[Parallel(n_jobs=-1)]: Done  10 out of  12 | elapsed:  6.5min remaining:  1.3min\n",
      "[Parallel(n_jobs=-1)]: Done  12 out of  12 | elapsed:  7.7min remaining:    0.0s\n",
      "[Parallel(n_jobs=-1)]: Done  12 out of  12 | elapsed:  7.7min finished\n"
     ]
    },
    {
     "ename": "NameError",
     "evalue": "name 'song_rating' is not defined",
     "output_type": "error",
     "traceback": [
      "\u001b[0;31m---------------------------------------------------------------------------\u001b[0m",
      "\u001b[0;31mNameError\u001b[0m                                 Traceback (most recent call last)",
      "\u001b[0;32m<ipython-input-12-a314e4ec13c6>\u001b[0m in \u001b[0;36m<module>\u001b[0;34m\u001b[0m\n\u001b[1;32m      1\u001b[0m \u001b[0mdata\u001b[0m \u001b[0;34m=\u001b[0m \u001b[0msong_wrapper\u001b[0m\u001b[0;34m(\u001b[0m\u001b[0;34m'a263000355e6a46de29ec637820771ac7620369f'\u001b[0m\u001b[0;34m,\u001b[0m \u001b[0;36m12\u001b[0m\u001b[0;34m,\u001b[0m \u001b[0msong_dic\u001b[0m\u001b[0;34m,\u001b[0m \u001b[0muser_dic\u001b[0m\u001b[0;34m)\u001b[0m\u001b[0;34m\u001b[0m\u001b[0;34m\u001b[0m\u001b[0m\n\u001b[0;32m----> 2\u001b[0;31m \u001b[0mprint\u001b[0m\u001b[0;34m(\u001b[0m\u001b[0msorted\u001b[0m\u001b[0;34m(\u001b[0m\u001b[0msong_rating\u001b[0m\u001b[0;34m,\u001b[0m \u001b[0;32mlambda\u001b[0m \u001b[0mx\u001b[0m\u001b[0;34m:\u001b[0m \u001b[0mx\u001b[0m\u001b[0;34m[\u001b[0m\u001b[0;36m1\u001b[0m\u001b[0;34m]\u001b[0m\u001b[0;34m,\u001b[0m \u001b[0mreversed\u001b[0m \u001b[0;34m=\u001b[0m \u001b[0;32mTrue\u001b[0m\u001b[0;34m)\u001b[0m\u001b[0;34m)\u001b[0m\u001b[0;34m\u001b[0m\u001b[0;34m\u001b[0m\u001b[0m\n\u001b[0m",
      "\u001b[0;31mNameError\u001b[0m: name 'song_rating' is not defined"
     ]
    }
   ],
   "source": [
    "data = song_wrapper('a263000355e6a46de29ec637820771ac7620369f', 12, song_dic, user_dic)"
   ]
  },
  {
   "cell_type": "code",
   "execution_count": 19,
   "metadata": {},
   "outputs": [
    {
     "name": "stdout",
     "output_type": "stream",
     "text": [
      "[('SOEKWEA12A6D4F5DC3', 186.07688420864935), ('SOFTKSZ12A6D4F5DC5', 186.07688420864935), ('SOBNZDC12A6D4FC103', 186.07692307692307), ('SOBVFZR12A6D4F8AE3', 186.07692307692307), ('SOEGVZY12A58A7857E', 186.07692307692307), ('SOEOBYG12A6D4F8AE2', 186.07692307692307), ('SOFFJPX12A6D4F7456', 186.07692307692307), ('SOHQIAG12A8C136F64', 186.07692307692307), ('SOHQZCA12A6D4FB317', 186.07692307692307), ('SOIAOBY12A8C13BF75', 186.07692307692307), ('SOIQOQT12A8C136F96', 186.07692307692307), ('SOFZFQU12A8C13CAB8', 186.07733320422508)]\n"
     ]
    }
   ],
   "source": [
    "print(sorted(data, key = lambda x: x[1]))"
   ]
  },
  {
   "cell_type": "code",
   "execution_count": null,
   "metadata": {},
   "outputs": [],
   "source": []
  }
 ],
 "metadata": {
  "kernelspec": {
   "display_name": "Python 3",
   "language": "python",
   "name": "python3"
  },
  "language_info": {
   "codemirror_mode": {
    "name": "ipython",
    "version": 3
   },
   "file_extension": ".py",
   "mimetype": "text/x-python",
   "name": "python",
   "nbconvert_exporter": "python",
   "pygments_lexer": "ipython3",
   "version": "3.7.5"
  }
 },
 "nbformat": 4,
 "nbformat_minor": 2
}
