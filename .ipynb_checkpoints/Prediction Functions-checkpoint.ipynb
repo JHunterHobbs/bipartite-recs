{
 "cells": [
  {
   "cell_type": "code",
   "execution_count": null,
   "metadata": {},
   "outputs": [],
   "source": [
    "import numpy as np\n",
    "import pandas as pd\n",
    "import networkx as nx\n",
    "import os\n",
    "from joblib import Parallel, delayed\n",
    "os.system(\"taskset -p 0xff %d\" % os.getpid())"
   ]
  },
  {
   "cell_type": "markdown",
   "metadata": {},
   "source": [
    "### Create Graph as dictionary"
   ]
  },
  {
   "cell_type": "code",
   "execution_count": null,
   "metadata": {},
   "outputs": [],
   "source": [
    "df = pd.read_csv('./data/selected_triplet_new.csv') \n",
    "df.head()"
   ]
  },
  {
   "cell_type": "code",
   "execution_count": null,
   "metadata": {},
   "outputs": [],
   "source": [
    "df.sort_values('weight', ascending=False)"
   ]
  },
  {
   "cell_type": "code",
   "execution_count": null,
   "metadata": {},
   "outputs": [],
   "source": [
    "user_dic = {}\n",
    "song_dic = {}\n",
    "for edge in df.values.tolist():\n",
    "    user_id, song_id, listened_count = edge[0], edge[1], edge[2]\n",
    "    if user_id not in user_dic:\n",
    "        user_dic[user_id] = {}\n",
    "    user_dic[user_id][song_id] = listened_count    \n",
    "    \n",
    "    if song_id not in song_dic:\n",
    "        song_dic[song_id] = {}\n",
    "    song_dic[song_id][user_id] = listened_count\n"
   ]
  },
  {
   "cell_type": "code",
   "execution_count": null,
   "metadata": {},
   "outputs": [],
   "source": [
    "for user, songs in user_dic.items():\n",
    "    print(user, songs)\n",
    "    break"
   ]
  },
  {
   "cell_type": "code",
   "execution_count": null,
   "metadata": {},
   "outputs": [],
   "source": [
    "'''\n",
    "Calculates the sum of the weights of an edgeslist of the bipartite graph\n",
    "Takes in a list of edges (the ones adjacent to the user or the song.)\n",
    "'''\n",
    "\n",
    "def cal_adj_weights(dic):\n",
    "    total_weight = 0.0\n",
    "    for key, weight in dic.items():\n",
    "        total_weight += weight\n",
    "\n",
    "    return (total_weight)\n",
    "\n",
    "'''\n",
    "Finds the average number of song listens by a user u.\n",
    "bipart_g: is a weighted bipartite networkx Graph, where the weight = # of listens of song s by user u\n",
    "It returns 1 / |S_u| Σ r_(u,s) => the average listens for a user u\n",
    "'''\n",
    "\n",
    "def mean_ru(user_u):\n",
    "    songs_u = user_dic[user_u]\n",
    "    song_count = len(songs_u) # R_u\n",
    "    listen_count = cal_adj_weights(songs_u)\n",
    "    return (listen_count / song_count)\n",
    "\n",
    "\n",
    "'''\n",
    "Finds the 2-step random walk recommendation power for an arbitrary user v from a choosen user u\n",
    "We know both users u,v\n",
    "This is P(u -> s -> v), as this is a bipartite graph\n",
    "v is always 2 steps from u\n",
    "P(Transition from user u to song s) = r_(u,s) / R_u\n",
    "\n",
    "P(Transition from song s to user v) = r_(v,s) / R_s\n",
    "'''\n",
    "def rec_power_u_v(user_u, user_v):\n",
    "    songs_u = user_dic[user_u]\n",
    "    songs_v = user_dic[user_v]\n",
    "    \n",
    "    song_count_u = len(songs_u)\n",
    "    listen_count_u = cal_adj_weights(songs_u) # R_u\n",
    "    \n",
    "    running_value = 0.0\n",
    "    \n",
    "    for s in songs_u:\n",
    "        users_s = song_dic[s]\n",
    "        listen_count_s = cal_adj_weights(song_dic[s]) # R_s\n",
    "        \n",
    "        if user_v in users_s:\n",
    "            user_u_listens_s = user_dic[user_u][s] # r_{u,s}\n",
    "            user_v_listens_s = user_dic[user_v][s] # r_{v,s}\n",
    "            running_value += user_v_listens_s * user_u_listens_s / listen_count_s\n",
    "    return (running_value / listen_count_u)\n",
    "\n",
    "\n",
    "\n",
    "'''\n",
    "Predicts the number of listens that user u will give to song s\n",
    "'''\n",
    "def predict_listens(user_u, song_s, total_users):\n",
    "    u_bar = mean_ru(user_u)\n",
    "    running_value = 0.0\n",
    "    for v in total_users:\n",
    "        if v in song_dic[song_s]:\n",
    "            v_bar = mean_ru(v)\n",
    "            user_v_listens_s = user_dic[v][song_s]\n",
    "            rp_u_v = rec_power_u_v(user_u, v)\n",
    "            running_value += (rp_u_v * (user_v_listens_s - v_bar))            \n",
    "    return u_bar + running_value"
   ]
  },
  {
   "cell_type": "code",
   "execution_count": null,
   "metadata": {},
   "outputs": [],
   "source": [
    "rating = predict_listens('a263000355e6a46de29ec637820771ac7620369f', 'SONSTND12AB018516E', list(user_dic.keys()))\n",
    "print(rating)"
   ]
  },
  {
   "cell_type": "code",
   "execution_count": null,
   "metadata": {},
   "outputs": [],
   "source": [
    "def predict_wrapper(user_u, song_s, total_users):\n",
    "    pred_listen = predict_listens(user_u, song_s, total_users)\n",
    "    return (song_s, pred_listen)\n",
    "\n",
    "'''\n",
    "Parallel wrapper to predict the number of listens that a user will listen to a given song\n",
    "n = number of users to go through\n",
    "'''\n",
    "def song_wrapper(user, n, song_dic, user_dic):\n",
    "    song_dic_subset = list(song_dic.keys())[:n]\n",
    "    listens = Parallel(n_jobs = 10, verbose = 20, prefer='processes', backend = 'threading')(delayed(predict_wrapper)(user_u = user, song_s = song, total_users = user_dic) for song in song_dic_subset)\n",
    "    return listens"
   ]
  },
  {
   "cell_type": "code",
   "execution_count": null,
   "metadata": {},
   "outputs": [],
   "source": [
    "data = song_wrapper('a263000355e6a46de29ec637820771ac7620369f', 100, song_dic, user_dic)"
   ]
  },
  {
   "cell_type": "code",
   "execution_count": null,
   "metadata": {},
   "outputs": [],
   "source": [
    "print(sorted(data, key = lambda x: x[1]))"
   ]
  },
  {
   "cell_type": "code",
   "execution_count": null,
   "metadata": {},
   "outputs": [],
   "source": []
  }
 ],
 "metadata": {
  "kernelspec": {
   "display_name": "Python 3",
   "language": "python",
   "name": "python3"
  },
  "language_info": {
   "codemirror_mode": {
    "name": "ipython",
    "version": 3
   },
   "file_extension": ".py",
   "mimetype": "text/x-python",
   "name": "python",
   "nbconvert_exporter": "python",
   "pygments_lexer": "ipython3",
   "version": "3.7.3"
  }
 },
 "nbformat": 4,
 "nbformat_minor": 2
}
