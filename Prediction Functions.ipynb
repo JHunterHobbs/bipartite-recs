{
 "cells": [
  {
   "cell_type": "code",
   "execution_count": 2,
   "metadata": {},
   "outputs": [],
   "source": [
    "import numpy as np\n",
    "import pandas as pd\n",
    "import networkx as nx"
   ]
  },
  {
   "cell_type": "code",
   "execution_count": 3,
   "metadata": {},
   "outputs": [],
   "source": [
    "'''\n",
    "Calculates the sum of the weights of an edgeslist of the bipartite graph\n",
    "Takes in a list of edges (the ones adjacent to the user or the song.)\n",
    "'''\n",
    "\n",
    "def cal_adj_weights(edges):\n",
    "    edge_data = [G.get_edge_data(e[0],e[1]) for e in edges]\n",
    "    total_weight = 0.0\n",
    "    for i in edge_data:\n",
    "        total_weight += i['weight']\n",
    "    return(total_weight)\n",
    "\n",
    "'''\n",
    "Finds the average number of song listens by a user u.\n",
    "bipart_g: is a weighted bipartite networkx Graph, where the weight = # of listens of song s by user u\n",
    "It returns 1 / |S_u| Σ r_(u,s) => the average listens for a user u\n",
    "'''\n",
    "\n",
    "def mean_ru(user_u, bipart_g: nx.Graph):\n",
    "    edges_u = [e for e in bipart_g.edges(user_u)]\n",
    "    song_count = len(edges_u) # R_u\n",
    "    listen_count = cal_adj_weights(edges)\n",
    "    return (listen_count / song_count)\n",
    "\n",
    "\n",
    "'''\n",
    "Finds the 2-step random walk recommendation power for an arbitrary user v from a choosen user u\n",
    "We know both users u,v\n",
    "This is P(u -> s -> v), as this is a bipartite graph\n",
    "v is always 2 steps from u\n",
    "P(Transition from user u to song s) = r_(u,s) / R_u\n",
    "\n",
    "P(Transition from song s to user v) = r_(v,s) / R_s\n",
    "'''\n",
    "def rec_power_u_v(user_u, user_v, bipart_g: nx.Graph):\n",
    "    edges_u = [e for e in bipart_g.edges(user_u)]\n",
    "    edges_v = [e for e in bipart_g.edges(user_v)]\n",
    "    songs_u = [n for n in bipart_g.neighbors(user_u)]\n",
    "    \n",
    "    song_count_u = len(edges_u) \n",
    "    listen_count_u = cal_adj_weights(edges_u) # R_u\n",
    "    \n",
    "    running_value = 0.0\n",
    "    \n",
    "    for s in songs_u:\n",
    "        users_s = [e for e in bipart_g.edges(song)] # Users that listened to song s\n",
    "        listen_count_s = cal_adj_weights(users_s) # R_s\n",
    "        \n",
    "        if bipart_g.has_edge(s, user_v):\n",
    "            user_v_listens_s = bipart_g.get_edge_data(user_v, s)['weight'] # r_v,s\n",
    "            user_u_listens_s = bipart_g.get_edge_data(user_u, s)['weight'] # r_u,s\n",
    "            running_value += user_v_listens_s * user_u_listens_s / listen_count_s\n",
    "    return (running_value / listen_count_u)"
   ]
  },
  {
   "cell_type": "code",
   "execution_count": 4,
   "metadata": {},
   "outputs": [],
   "source": [
    "G = nx.Graph()\n",
    "G.add_edge('a', 'b', weight=3) \n",
    "G.add_edge('b', 'c', weight=4)\n",
    "G.add_edge('a', 'c', weight=1)"
   ]
  },
  {
   "cell_type": "code",
   "execution_count": 5,
   "metadata": {},
   "outputs": [
    {
     "name": "stdout",
     "output_type": "stream",
     "text": [
      "2\n",
      "4.0\n"
     ]
    }
   ],
   "source": [
    "edges = [e for e in G.edges('a')]\n",
    "print(len(edges))\n",
    "edge_data = [G.get_edge_data(e[0],e[1]) for e in edges]\n",
    "total_weight = 0.0\n",
    "for i in edge_data:\n",
    "    total_weight += i['weight']\n",
    "print(total_weight)"
   ]
  },
  {
   "cell_type": "code",
   "execution_count": 6,
   "metadata": {},
   "outputs": [
    {
     "data": {
      "text/plain": [
       "4.0"
      ]
     },
     "execution_count": 6,
     "metadata": {},
     "output_type": "execute_result"
    }
   ],
   "source": [
    "cal_adj_weights(edges)"
   ]
  },
  {
   "cell_type": "code",
   "execution_count": 6,
   "metadata": {},
   "outputs": [
    {
     "data": {
      "text/plain": [
       "2.0"
      ]
     },
     "execution_count": 6,
     "metadata": {},
     "output_type": "execute_result"
    }
   ],
   "source": [
    "mean_ru('a', G)"
   ]
  },
  {
   "cell_type": "code",
   "execution_count": null,
   "metadata": {},
   "outputs": [],
   "source": [
    "G.get_edge_data()"
   ]
  },
  {
   "cell_type": "code",
   "execution_count": null,
   "metadata": {},
   "outputs": [],
   "source": []
  }
 ],
 "metadata": {
  "kernelspec": {
   "display_name": "Python 3",
   "language": "python",
   "name": "python3"
  },
  "language_info": {
   "codemirror_mode": {
    "name": "ipython",
    "version": 3
   },
   "file_extension": ".py",
   "mimetype": "text/x-python",
   "name": "python",
   "nbconvert_exporter": "python",
   "pygments_lexer": "ipython3",
   "version": "3.7.5"
  }
 },
 "nbformat": 4,
 "nbformat_minor": 2
}
