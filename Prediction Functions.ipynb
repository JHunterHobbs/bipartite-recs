{
 "cells": [
  {
   "cell_type": "code",
   "execution_count": 2,
   "metadata": {},
   "outputs": [],
   "source": [
    "import numpy as np\n",
    "import pandas as pd\n",
    "import networkx as nx"
   ]
  },
  {
   "cell_type": "code",
   "execution_count": 3,
   "metadata": {},
   "outputs": [],
   "source": [
    "'''\n",
    "Calculates the sum of the weights of an edgeslist of the bipartite graph\n",
    "Takes in a list of edges (the ones adjacent to the user or the song.)\n",
    "'''\n",
    "\n",
    "def cal_adj_weights(edges):\n",
    "    edge_data = [G.get_edge_data(e[0],e[1]) for e in edges]\n",
    "    total_weight = 0.0\n",
    "    for i in edge_data:\n",
    "        total_weight += i['weight']\n",
    "    return(total_weight)\n",
    "\n",
    "'''\n",
    "Finds the average number of song listens by a user u.\n",
    "bipart_g: is a weighted bipartite networkx Graph, where the weight = # of listens of song s by user u\n",
    "It returns 1 / |S_u| Σ r_(u,s) => the average listens for a user u\n",
    "'''\n",
    "\n",
    "def mean_ru(user_u, bipart_g: nx.Graph):\n",
    "    edges_u = [e for e in bipart_g.edges(user_u)]\n",
    "    song_count = len(edges_u) # R_u\n",
    "    listen_count = cal_adj_weights(edges)\n",
    "    return (listen_count / song_count)\n",
    "\n",
    "\n",
    "'''\n",
    "Finds the 2-step random walk recommendation power for an arbitrary user v from a choosen user u\n",
    "We know both users u,v\n",
    "This is P(u -> s -> v), as this is a bipartite graph\n",
    "v is always 2 steps from u\n",
    "P(Transition from user u to song s) = r_(u,s) / R_u\n",
    "\n",
    "P(Transition from song s to user v) = r_(v,s) / R_s\n",
    "'''\n",
    "def rec_power_u_v(user_u, user_v, bipart_g: nx.Graph):\n",
    "    edges_u = [e for e in bipart_g.edges(user_u)]\n",
    "    edges_v = [e for e in bipart_g.edges(user_v)]\n",
    "    songs_u = [n for n in bipart_g.neighbors(user_u)]\n",
    "    \n",
    "    song_count_u = len(edges_u) \n",
    "    listen_count_u = cal_adj_weights(edges_u) # R_u\n",
    "    \n",
    "    running_value = 0.0\n",
    "    \n",
    "    for s in songs_u:\n",
    "        users_s = [e for e in bipart_g.edges(song)] # Users that listened to song s\n",
    "        listen_count_s = cal_adj_weights(users_s) # R_s\n",
    "        \n",
    "        if bipart_g.has_edge(s, user_v):\n",
    "            user_v_listens_s = bipart_g.get_edge_data(user_v, s)['weight'] # r_v,s\n",
    "            user_u_listens_s = bipart_g.get_edge_data(user_u, s)['weight'] # r_u,s\n",
    "            running_value += user_v_listens_s * user_u_listens_s / listen_count_s\n",
    "    return (running_value / listen_count_u)\n",
    "\n",
    "\n",
    "\n",
    "'''\n",
    "Predicts the number of listens that user u will give to song s\n",
    "'''\n",
    "def predict_rating(user_u, song_s, total_users, bipart_g: nx.Graph):\n",
    "    u_bar = mean_ru(user_u, bipart_g)\n",
    "    v_bar = mean_ru(user_v, bipart_g)\n",
    "    running_value = 0.0\n",
    "    for v in total_users:\n",
    "        if bipart_g.has_edge(song_s, v):\n",
    "            user_v_listens_s = bipart_g.get_edge_data(v, s)['weight']\n",
    "            rp_u_v = rec_power_u_v(user_u, user_v, bipart_g)\n",
    "            running_value += (rp_u_v * (user_v_listens_s - v_bar))\n",
    "    return u_bar + running_value"
   ]
  },
  {
   "cell_type": "code",
   "execution_count": 4,
   "metadata": {},
   "outputs": [],
   "source": [
    "G = nx.Graph()\n",
    "G.add_edge('a', 'b', weight=3) \n",
    "G.add_edge('b', 'c', weight=4)\n",
    "G.add_edge('a', 'c', weight=1)"
   ]
  },
  {
   "cell_type": "code",
   "execution_count": 5,
   "metadata": {},
   "outputs": [
    {
     "name": "stdout",
     "output_type": "stream",
     "text": [
      "2\n",
      "4.0\n"
     ]
    }
   ],
   "source": [
    "edges = [e for e in G.edges('a')]\n",
    "print(len(edges))\n",
    "edge_data = [G.get_edge_data(e[0],e[1]) for e in edges]\n",
    "total_weight = 0.0\n",
    "for i in edge_data:\n",
    "    total_weight += i['weight']\n",
    "print(total_weight)"
   ]
  },
  {
   "cell_type": "code",
   "execution_count": 6,
   "metadata": {},
   "outputs": [
    {
     "data": {
      "text/plain": [
       "4.0"
      ]
     },
     "execution_count": 6,
     "metadata": {},
     "output_type": "execute_result"
    }
   ],
   "source": [
    "cal_adj_weights(edges)"
   ]
  },
  {
   "cell_type": "code",
   "execution_count": 6,
   "metadata": {},
   "outputs": [
    {
     "data": {
      "text/plain": [
       "2.0"
      ]
     },
     "execution_count": 6,
     "metadata": {},
     "output_type": "execute_result"
    }
   ],
   "source": [
    "mean_ru('a', G)"
   ]
  },
  {
   "cell_type": "code",
   "execution_count": 7,
   "metadata": {},
   "outputs": [
    {
     "data": {
      "text/html": [
       "<div>\n",
       "<style scoped>\n",
       "    .dataframe tbody tr th:only-of-type {\n",
       "        vertical-align: middle;\n",
       "    }\n",
       "\n",
       "    .dataframe tbody tr th {\n",
       "        vertical-align: top;\n",
       "    }\n",
       "\n",
       "    .dataframe thead th {\n",
       "        text-align: right;\n",
       "    }\n",
       "</style>\n",
       "<table border=\"1\" class=\"dataframe\">\n",
       "  <thead>\n",
       "    <tr style=\"text-align: right;\">\n",
       "      <th></th>\n",
       "      <th>user</th>\n",
       "      <th>song</th>\n",
       "      <th>weight</th>\n",
       "    </tr>\n",
       "  </thead>\n",
       "  <tbody>\n",
       "    <tr>\n",
       "      <th>0</th>\n",
       "      <td>b80344d063b5ccb3212f76538f3d9e43d87dca9e</td>\n",
       "      <td>SOBNZDC12A6D4FC103</td>\n",
       "      <td>1</td>\n",
       "    </tr>\n",
       "    <tr>\n",
       "      <th>1</th>\n",
       "      <td>b80344d063b5ccb3212f76538f3d9e43d87dca9e</td>\n",
       "      <td>SOBVFZR12A6D4F8AE3</td>\n",
       "      <td>1</td>\n",
       "    </tr>\n",
       "    <tr>\n",
       "      <th>2</th>\n",
       "      <td>b80344d063b5ccb3212f76538f3d9e43d87dca9e</td>\n",
       "      <td>SOEGVZY12A58A7857E</td>\n",
       "      <td>1</td>\n",
       "    </tr>\n",
       "    <tr>\n",
       "      <th>3</th>\n",
       "      <td>b80344d063b5ccb3212f76538f3d9e43d87dca9e</td>\n",
       "      <td>SOEKWEA12A6D4F5DC3</td>\n",
       "      <td>1</td>\n",
       "    </tr>\n",
       "    <tr>\n",
       "      <th>4</th>\n",
       "      <td>b80344d063b5ccb3212f76538f3d9e43d87dca9e</td>\n",
       "      <td>SOEOBYG12A6D4F8AE2</td>\n",
       "      <td>1</td>\n",
       "    </tr>\n",
       "    <tr>\n",
       "      <th>...</th>\n",
       "      <td>...</td>\n",
       "      <td>...</td>\n",
       "      <td>...</td>\n",
       "    </tr>\n",
       "    <tr>\n",
       "      <th>5354952</th>\n",
       "      <td>cf8289419383259189afe6bb50c5115fd84f1064</td>\n",
       "      <td>SOYSPLQ12AB0185D3F</td>\n",
       "      <td>7</td>\n",
       "    </tr>\n",
       "    <tr>\n",
       "      <th>5354953</th>\n",
       "      <td>b7815dbb206eb2831ce0fe040d0aa537e2e800f7</td>\n",
       "      <td>SOHHKGO12AC3DF57BF</td>\n",
       "      <td>1</td>\n",
       "    </tr>\n",
       "    <tr>\n",
       "      <th>5354954</th>\n",
       "      <td>b7815dbb206eb2831ce0fe040d0aa537e2e800f7</td>\n",
       "      <td>SONWLIS12A8C140865</td>\n",
       "      <td>2</td>\n",
       "    </tr>\n",
       "    <tr>\n",
       "      <th>5354955</th>\n",
       "      <td>b7815dbb206eb2831ce0fe040d0aa537e2e800f7</td>\n",
       "      <td>SOQBOWE12A8C13CC2E</td>\n",
       "      <td>1</td>\n",
       "    </tr>\n",
       "    <tr>\n",
       "      <th>5354956</th>\n",
       "      <td>b7815dbb206eb2831ce0fe040d0aa537e2e800f7</td>\n",
       "      <td>SOTNMFD12A58A7789E</td>\n",
       "      <td>1</td>\n",
       "    </tr>\n",
       "  </tbody>\n",
       "</table>\n",
       "<p>5354957 rows × 3 columns</p>\n",
       "</div>"
      ],
      "text/plain": [
       "                                             user                song  weight\n",
       "0        b80344d063b5ccb3212f76538f3d9e43d87dca9e  SOBNZDC12A6D4FC103       1\n",
       "1        b80344d063b5ccb3212f76538f3d9e43d87dca9e  SOBVFZR12A6D4F8AE3       1\n",
       "2        b80344d063b5ccb3212f76538f3d9e43d87dca9e  SOEGVZY12A58A7857E       1\n",
       "3        b80344d063b5ccb3212f76538f3d9e43d87dca9e  SOEKWEA12A6D4F5DC3       1\n",
       "4        b80344d063b5ccb3212f76538f3d9e43d87dca9e  SOEOBYG12A6D4F8AE2       1\n",
       "...                                           ...                 ...     ...\n",
       "5354952  cf8289419383259189afe6bb50c5115fd84f1064  SOYSPLQ12AB0185D3F       7\n",
       "5354953  b7815dbb206eb2831ce0fe040d0aa537e2e800f7  SOHHKGO12AC3DF57BF       1\n",
       "5354954  b7815dbb206eb2831ce0fe040d0aa537e2e800f7  SONWLIS12A8C140865       2\n",
       "5354955  b7815dbb206eb2831ce0fe040d0aa537e2e800f7  SOQBOWE12A8C13CC2E       1\n",
       "5354956  b7815dbb206eb2831ce0fe040d0aa537e2e800f7  SOTNMFD12A58A7789E       1\n",
       "\n",
       "[5354957 rows x 3 columns]"
      ]
     },
     "execution_count": 7,
     "metadata": {},
     "output_type": "execute_result"
    }
   ],
   "source": [
    "df = pd.read_csv('../data/selected_triplet_new.csv') \n",
    "df"
   ]
  },
  {
   "cell_type": "code",
   "execution_count": 27,
   "metadata": {},
   "outputs": [
    {
     "name": "stdout",
     "output_type": "stream",
     "text": [
      "0\n",
      "100000\n",
      "200000\n",
      "300000\n",
      "400000\n",
      "500000\n"
     ]
    }
   ],
   "source": [
    "BiPart_G = nx.Graph()\n",
    "\n",
    "for idx, row in df.iterrows():\n",
    "    if idx % 100000 == 0: print(idx)\n",
    "    if idx == 500000: break\n",
    "    u = row['user']\n",
    "    s = row['song']\n",
    "    BiPart_G.add_node(u)\n",
    "    BiPart_G.add_node(s)\n",
    "    BiPart_G.add_edge(u, s, weight = int(row['weight']))\n"
   ]
  },
  {
   "cell_type": "code",
   "execution_count": 30,
   "metadata": {},
   "outputs": [
    {
     "ename": "TypeError",
     "evalue": "predict_rating() missing 1 required positional argument: 'total_users'",
     "output_type": "error",
     "traceback": [
      "\u001b[0;31m---------------------------------------------------------------------------\u001b[0m",
      "\u001b[0;31mTypeError\u001b[0m                                 Traceback (most recent call last)",
      "\u001b[0;32m<ipython-input-30-037332c863d1>\u001b[0m in \u001b[0;36m<module>\u001b[0;34m\u001b[0m\n\u001b[0;32m----> 1\u001b[0;31m \u001b[0mpredict_rating\u001b[0m\u001b[0;34m(\u001b[0m\u001b[0;34m'b80344d063b5ccb3212f76538f3d9e43d87dca9e'\u001b[0m\u001b[0;34m,\u001b[0m \u001b[0;34m'SOTNMFD12A58A7789E'\u001b[0m\u001b[0;34m,\u001b[0m \u001b[0mbipart_g\u001b[0m \u001b[0;34m=\u001b[0m \u001b[0mBiPart_G\u001b[0m\u001b[0;34m)\u001b[0m\u001b[0;34m\u001b[0m\u001b[0;34m\u001b[0m\u001b[0m\n\u001b[0m",
      "\u001b[0;31mTypeError\u001b[0m: predict_rating() missing 1 required positional argument: 'total_users'"
     ]
    }
   ],
   "source": [
    "predict_rating('b80344d063b5ccb3212f76538f3d9e43d87dca9e', 'SOTNMFD12A58A7789E', total_users = 500000, bipart_g = BiPart_G)"
   ]
  },
  {
   "cell_type": "code",
   "execution_count": null,
   "metadata": {},
   "outputs": [],
   "source": []
  }
 ],
 "metadata": {
  "kernelspec": {
   "display_name": "Python 3",
   "language": "python",
   "name": "python3"
  },
  "language_info": {
   "codemirror_mode": {
    "name": "ipython",
    "version": 3
   },
   "file_extension": ".py",
   "mimetype": "text/x-python",
   "name": "python",
   "nbconvert_exporter": "python",
   "pygments_lexer": "ipython3",
   "version": "3.7.5"
  }
 },
 "nbformat": 4,
 "nbformat_minor": 2
}
