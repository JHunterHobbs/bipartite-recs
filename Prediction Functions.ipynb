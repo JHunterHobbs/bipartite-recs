{
 "cells": [
  {
   "cell_type": "code",
   "execution_count": 1,
   "metadata": {},
   "outputs": [
    {
     "name": "stdout",
     "output_type": "stream",
     "text": [
      "Collecting joblib\n",
      "  Using cached https://files.pythonhosted.org/packages/8f/42/155696f85f344c066e17af287359c9786b436b1bf86029bb3411283274f3/joblib-0.14.0-py2.py3-none-any.whl\n",
      "Installing collected packages: joblib\n",
      "Successfully installed joblib-0.14.0\n"
     ]
    }
   ],
   "source": [
    "!pip3 install joblib"
   ]
  },
  {
   "cell_type": "code",
   "execution_count": 2,
   "metadata": {},
   "outputs": [
    {
     "data": {
      "text/plain": [
       "32512"
      ]
     },
     "execution_count": 2,
     "metadata": {},
     "output_type": "execute_result"
    }
   ],
   "source": [
    "import numpy as np\n",
    "import pandas as pd\n",
    "import networkx as nx\n",
    "import os\n",
    "from joblib import Parallel, delayed\n",
    "os.system(\"taskset -p 0xff %d\" % os.getpid())"
   ]
  },
  {
   "cell_type": "markdown",
   "metadata": {},
   "source": [
    "### Create Graph as dictionary"
   ]
  },
  {
   "cell_type": "code",
   "execution_count": 3,
   "metadata": {
    "scrolled": true
   },
   "outputs": [
    {
     "data": {
      "text/html": [
       "<div>\n",
       "<style scoped>\n",
       "    .dataframe tbody tr th:only-of-type {\n",
       "        vertical-align: middle;\n",
       "    }\n",
       "\n",
       "    .dataframe tbody tr th {\n",
       "        vertical-align: top;\n",
       "    }\n",
       "\n",
       "    .dataframe thead th {\n",
       "        text-align: right;\n",
       "    }\n",
       "</style>\n",
       "<table border=\"1\" class=\"dataframe\">\n",
       "  <thead>\n",
       "    <tr style=\"text-align: right;\">\n",
       "      <th></th>\n",
       "      <th>user</th>\n",
       "      <th>song</th>\n",
       "      <th>weight</th>\n",
       "    </tr>\n",
       "  </thead>\n",
       "  <tbody>\n",
       "    <tr>\n",
       "      <td>0</td>\n",
       "      <td>b80344d063b5ccb3212f76538f3d9e43d87dca9e</td>\n",
       "      <td>SOAKIMP12A8C130995</td>\n",
       "      <td>1</td>\n",
       "    </tr>\n",
       "    <tr>\n",
       "      <td>1</td>\n",
       "      <td>b80344d063b5ccb3212f76538f3d9e43d87dca9e</td>\n",
       "      <td>SOAPDEY12A81C210A9</td>\n",
       "      <td>1</td>\n",
       "    </tr>\n",
       "    <tr>\n",
       "      <td>2</td>\n",
       "      <td>b80344d063b5ccb3212f76538f3d9e43d87dca9e</td>\n",
       "      <td>SOBBMDR12A8C13253B</td>\n",
       "      <td>2</td>\n",
       "    </tr>\n",
       "    <tr>\n",
       "      <td>3</td>\n",
       "      <td>b80344d063b5ccb3212f76538f3d9e43d87dca9e</td>\n",
       "      <td>SOBFNSP12AF72A0E22</td>\n",
       "      <td>1</td>\n",
       "    </tr>\n",
       "    <tr>\n",
       "      <td>4</td>\n",
       "      <td>b80344d063b5ccb3212f76538f3d9e43d87dca9e</td>\n",
       "      <td>SOBFOVM12A58A7D494</td>\n",
       "      <td>1</td>\n",
       "    </tr>\n",
       "  </tbody>\n",
       "</table>\n",
       "</div>"
      ],
      "text/plain": [
       "                                       user                song  weight\n",
       "0  b80344d063b5ccb3212f76538f3d9e43d87dca9e  SOAKIMP12A8C130995       1\n",
       "1  b80344d063b5ccb3212f76538f3d9e43d87dca9e  SOAPDEY12A81C210A9       1\n",
       "2  b80344d063b5ccb3212f76538f3d9e43d87dca9e  SOBBMDR12A8C13253B       2\n",
       "3  b80344d063b5ccb3212f76538f3d9e43d87dca9e  SOBFNSP12AF72A0E22       1\n",
       "4  b80344d063b5ccb3212f76538f3d9e43d87dca9e  SOBFOVM12A58A7D494       1"
      ]
     },
     "execution_count": 3,
     "metadata": {},
     "output_type": "execute_result"
    }
   ],
   "source": [
    "df = pd.read_csv('./data/selected_triplet_full_dataset.csv')\n",
    "df.head()"
   ]
  },
  {
   "cell_type": "code",
   "execution_count": 4,
   "metadata": {},
   "outputs": [
    {
     "data": {
      "text/html": [
       "<div>\n",
       "<style scoped>\n",
       "    .dataframe tbody tr th:only-of-type {\n",
       "        vertical-align: middle;\n",
       "    }\n",
       "\n",
       "    .dataframe tbody tr th {\n",
       "        vertical-align: top;\n",
       "    }\n",
       "\n",
       "    .dataframe thead th {\n",
       "        text-align: right;\n",
       "    }\n",
       "</style>\n",
       "<table border=\"1\" class=\"dataframe\">\n",
       "  <thead>\n",
       "    <tr style=\"text-align: right;\">\n",
       "      <th></th>\n",
       "      <th>user</th>\n",
       "      <th>song</th>\n",
       "      <th>weight</th>\n",
       "    </tr>\n",
       "  </thead>\n",
       "  <tbody>\n",
       "    <tr>\n",
       "      <td>31847879</td>\n",
       "      <td>093cb74eb3c517c5179ae24caf0ebec51b24d2a2</td>\n",
       "      <td>SOAOSDF12A58A779F1</td>\n",
       "      <td>9667</td>\n",
       "    </tr>\n",
       "    <tr>\n",
       "      <td>18651017</td>\n",
       "      <td>c11dea7d1f4d227b98c5f2a79561bf76884fcf10</td>\n",
       "      <td>SOZTEZR12A8C14204B</td>\n",
       "      <td>3534</td>\n",
       "    </tr>\n",
       "    <tr>\n",
       "      <td>12857055</td>\n",
       "      <td>d8e6fa08d73821f305b9a3af1cf1e0a704473d82</td>\n",
       "      <td>SOBONKR12A58A7A7E0</td>\n",
       "      <td>3532</td>\n",
       "    </tr>\n",
       "    <tr>\n",
       "      <td>48274295</td>\n",
       "      <td>1854daf178674bbac9a8ed3d481f95b76676b414</td>\n",
       "      <td>SOVLAWN12A81C234AB</td>\n",
       "      <td>2948</td>\n",
       "    </tr>\n",
       "    <tr>\n",
       "      <td>30142955</td>\n",
       "      <td>69807196f964e5b063af898fd1cb098fab2e6a1f</td>\n",
       "      <td>SOVQQJO12AB0182328</td>\n",
       "      <td>2381</td>\n",
       "    </tr>\n",
       "  </tbody>\n",
       "</table>\n",
       "</div>"
      ],
      "text/plain": [
       "                                              user                song  weight\n",
       "31847879  093cb74eb3c517c5179ae24caf0ebec51b24d2a2  SOAOSDF12A58A779F1    9667\n",
       "18651017  c11dea7d1f4d227b98c5f2a79561bf76884fcf10  SOZTEZR12A8C14204B    3534\n",
       "12857055  d8e6fa08d73821f305b9a3af1cf1e0a704473d82  SOBONKR12A58A7A7E0    3532\n",
       "48274295  1854daf178674bbac9a8ed3d481f95b76676b414  SOVLAWN12A81C234AB    2948\n",
       "30142955  69807196f964e5b063af898fd1cb098fab2e6a1f  SOVQQJO12AB0182328    2381"
      ]
     },
     "execution_count": 4,
     "metadata": {},
     "output_type": "execute_result"
    }
   ],
   "source": [
    "df.sort_values('weight', ascending=False).head()"
   ]
  },
  {
   "cell_type": "code",
   "execution_count": 5,
   "metadata": {},
   "outputs": [],
   "source": [
    "user_dic = {}\n",
    "song_dic = {}\n",
    "for edge in df.values.tolist():\n",
    "    user_id, song_id, listened_count = edge[0], edge[1], edge[2]\n",
    "    if user_id not in user_dic:\n",
    "        user_dic[user_id] = {}\n",
    "    user_dic[user_id][song_id] = listened_count    \n",
    "    \n",
    "    if song_id not in song_dic:\n",
    "        song_dic[song_id] = {}\n",
    "    song_dic[song_id][user_id] = listened_count\n"
   ]
  },
  {
   "cell_type": "code",
   "execution_count": 6,
   "metadata": {},
   "outputs": [],
   "source": [
    "'''\n",
    "Calculates the sum of the weights of an edgeslist of the bipartite graph\n",
    "Takes in a list of edges (the ones adjacent to the user or the song.)\n",
    "'''\n",
    "\n",
    "def cal_adj_weights(dic):\n",
    "    total_weight = 0.0\n",
    "    for key, weight in dic.items():\n",
    "        total_weight += weight\n",
    "\n",
    "    return (total_weight)\n",
    "\n",
    "'''\n",
    "Finds the average number of song listens by a user u.\n",
    "bipart_g: is a weighted bipartite networkx Graph, where the weight = # of listens of song s by user u\n",
    "It returns 1 / |S_u| Σ r_(u,s) => the average listens for a user u\n",
    "'''\n",
    "\n",
    "def mean_ru(user_u):\n",
    "    songs_u = user_dic[user_u]\n",
    "    song_count = len(songs_u) # R_u\n",
    "    listen_count = cal_adj_weights(songs_u)\n",
    "    return (listen_count / song_count)\n",
    "\n",
    "\n",
    "'''\n",
    "Finds the 2-step random walk recommendation power for an arbitrary user v from a choosen user u\n",
    "We know both users u,v\n",
    "This is P(u -> s -> v), as this is a bipartite graph\n",
    "v is always 2 steps from u\n",
    "P(Transition from user u to song s) = r_(u,s) / R_u\n",
    "\n",
    "P(Transition from song s to user v) = r_(v,s) / R_s\n",
    "'''\n",
    "def rec_power_u_v(user_u, user_v):\n",
    "    songs_u = user_dic[user_u]\n",
    "    songs_v = user_dic[user_v]\n",
    "    \n",
    "    song_count_u = len(songs_u)\n",
    "    listen_count_u = cal_adj_weights(songs_u) # R_u\n",
    "    \n",
    "    running_value = 0.0\n",
    "    \n",
    "#     for s in songs_u:\n",
    "#         users_s = song_dic[s]\n",
    "#         listen_count_s = cal_adj_weights(song_dic[s]) # R_s\n",
    "        \n",
    "#         if user_v in users_s:\n",
    "#             user_u_listens_s = user_dic[user_u][s] # r_{u,s}\n",
    "#             user_v_listens_s = user_dic[user_v][s] # r_{v,s}\n",
    "#             running_value += user_v_listens_s * user_u_listens_s / listen_count_s\n",
    "            \n",
    "    intersect_songs = set(list(songs_u.keys())) & set(list(songs_v.keys()))\n",
    "    for s in intersect_songs:\n",
    "        listen_count_s = cal_adj_weights(song_dic[s])\n",
    "        user_u_listens_s = song_dic[s][user_u] # r_{u,s}\n",
    "        user_v_listens_s = song_dic[s][user_v] # r_{v,s}\n",
    "        running_value += user_v_listens_s * user_u_listens_s / listen_count_s\n",
    "    \n",
    "    return (running_value / listen_count_u)\n",
    "\n",
    "\n",
    "\n",
    "'''\n",
    "Predicts the number of listens that user u will give to song s\n",
    "'''\n",
    "def predict_listens(user_u, song_s):\n",
    "    u_bar = mean_ru(user_u)\n",
    "    running_value = 0.0\n",
    "    for v in song_dic[song_s]:\n",
    "        v_bar = mean_ru(v)\n",
    "        user_v_listens_s = user_dic[v][song_s]\n",
    "        rp_u_v = rec_power_u_v(user_u, v)\n",
    "        running_value += (rp_u_v * (user_v_listens_s - v_bar)) \n",
    "    return u_bar + running_value"
   ]
  },
  {
   "cell_type": "code",
   "execution_count": 7,
   "metadata": {},
   "outputs": [
    {
     "name": "stdout",
     "output_type": "stream",
     "text": [
      "1538.8014243082944\n"
     ]
    }
   ],
   "source": [
    "rating = predict_listens('a263000355e6a46de29ec637820771ac7620369f', 'SONSTND12AB018516E')\n",
    "print(rating)"
   ]
  },
  {
   "cell_type": "code",
   "execution_count": 8,
   "metadata": {},
   "outputs": [],
   "source": [
    "def predict_wrapper(user_u, song_s):\n",
    "    pred_listen = predict_listens(user_u, song_s)\n",
    "    return (song_s, pred_listen)\n",
    "\n",
    "'''\n",
    "Parallel wrapper to predict the number of listens that a user will listen to a given song\n",
    "n = number of users to go through\n",
    "'''\n",
    "def song_wrapper(user, n, song_dic, user_dic):\n",
    "    listens = Parallel(n_jobs = 10, verbose = 20, prefer='processes', backend = 'threading')(delayed(predict_wrapper)(user_u = user, song_s = song) for song in song_dic)\n",
    "    return sorted(listens, key=lambda x: x[1], reverse=True)[:n]"
   ]
  },
  {
   "cell_type": "code",
   "execution_count": null,
   "metadata": {},
   "outputs": [
    {
     "name": "stderr",
     "output_type": "stream",
     "text": [
      "[Parallel(n_jobs=10)]: Using backend ThreadingBackend with 10 concurrent workers.\n",
      "[Parallel(n_jobs=10)]: Done   1 tasks      | elapsed:    2.1s\n",
      "[Parallel(n_jobs=10)]: Done   2 tasks      | elapsed:    6.1s\n",
      "[Parallel(n_jobs=10)]: Done   3 tasks      | elapsed:   18.6s\n",
      "[Parallel(n_jobs=10)]: Done   4 tasks      | elapsed:   22.1s\n",
      "[Parallel(n_jobs=10)]: Done   5 tasks      | elapsed:   32.7s\n",
      "[Parallel(n_jobs=10)]: Done   6 tasks      | elapsed:   37.1s\n",
      "[Parallel(n_jobs=10)]: Done   7 tasks      | elapsed:   38.0s\n",
      "[Parallel(n_jobs=10)]: Done   8 tasks      | elapsed:   43.5s\n",
      "[Parallel(n_jobs=10)]: Done   9 tasks      | elapsed:   45.7s\n",
      "[Parallel(n_jobs=10)]: Done  10 tasks      | elapsed:   50.2s\n",
      "[Parallel(n_jobs=10)]: Done  11 tasks      | elapsed:   54.0s\n",
      "[Parallel(n_jobs=10)]: Done  12 tasks      | elapsed:  1.1min\n",
      "[Parallel(n_jobs=10)]: Done  13 tasks      | elapsed:  1.2min\n",
      "[Parallel(n_jobs=10)]: Done  14 tasks      | elapsed:  1.3min\n",
      "[Parallel(n_jobs=10)]: Done  15 tasks      | elapsed:  1.3min\n",
      "[Parallel(n_jobs=10)]: Done  16 tasks      | elapsed:  1.6min\n",
      "[Parallel(n_jobs=10)]: Done  17 tasks      | elapsed:  1.8min\n",
      "[Parallel(n_jobs=10)]: Done  18 tasks      | elapsed:  2.0min\n",
      "[Parallel(n_jobs=10)]: Done  19 tasks      | elapsed:  2.1min\n",
      "[Parallel(n_jobs=10)]: Done  20 tasks      | elapsed:  2.2min\n",
      "[Parallel(n_jobs=10)]: Done  21 tasks      | elapsed:  2.3min\n",
      "[Parallel(n_jobs=10)]: Done  22 tasks      | elapsed:  2.3min\n",
      "[Parallel(n_jobs=10)]: Done  23 tasks      | elapsed:  2.4min\n",
      "[Parallel(n_jobs=10)]: Done  24 tasks      | elapsed:  2.8min\n",
      "[Parallel(n_jobs=10)]: Done  25 tasks      | elapsed:  2.9min\n",
      "[Parallel(n_jobs=10)]: Done  26 tasks      | elapsed:  3.1min\n",
      "[Parallel(n_jobs=10)]: Done  27 tasks      | elapsed:  3.1min\n",
      "[Parallel(n_jobs=10)]: Done  28 tasks      | elapsed:  3.5min\n",
      "[Parallel(n_jobs=10)]: Done  29 tasks      | elapsed:  3.9min\n",
      "[Parallel(n_jobs=10)]: Done  30 tasks      | elapsed:  3.9min\n",
      "[Parallel(n_jobs=10)]: Done  31 tasks      | elapsed:  4.3min\n",
      "[Parallel(n_jobs=10)]: Done  32 tasks      | elapsed:  4.6min\n",
      "[Parallel(n_jobs=10)]: Done  33 tasks      | elapsed:  5.2min\n",
      "[Parallel(n_jobs=10)]: Done  34 tasks      | elapsed:  6.1min\n",
      "[Parallel(n_jobs=10)]: Done  35 tasks      | elapsed:  6.5min\n",
      "[Parallel(n_jobs=10)]: Done  36 tasks      | elapsed:  6.8min\n",
      "[Parallel(n_jobs=10)]: Done  37 tasks      | elapsed:  6.8min\n",
      "[Parallel(n_jobs=10)]: Done  38 tasks      | elapsed:  7.3min\n",
      "[Parallel(n_jobs=10)]: Done  39 tasks      | elapsed:  7.9min\n",
      "[Parallel(n_jobs=10)]: Done  40 tasks      | elapsed:  8.7min\n",
      "[Parallel(n_jobs=10)]: Done  41 tasks      | elapsed:  9.0min\n",
      "[Parallel(n_jobs=10)]: Done  42 tasks      | elapsed:  9.2min\n",
      "[Parallel(n_jobs=10)]: Done  43 tasks      | elapsed:  9.5min\n",
      "[Parallel(n_jobs=10)]: Done  44 tasks      | elapsed:  9.6min\n",
      "[Parallel(n_jobs=10)]: Done  45 tasks      | elapsed:  9.6min\n",
      "[Parallel(n_jobs=10)]: Done  46 tasks      | elapsed:  9.7min\n",
      "[Parallel(n_jobs=10)]: Done  47 tasks      | elapsed:  9.9min\n",
      "[Parallel(n_jobs=10)]: Done  48 tasks      | elapsed: 10.2min\n",
      "[Parallel(n_jobs=10)]: Done  49 tasks      | elapsed: 10.2min\n",
      "[Parallel(n_jobs=10)]: Done  50 tasks      | elapsed: 10.3min\n",
      "[Parallel(n_jobs=10)]: Done  51 tasks      | elapsed: 10.3min\n",
      "[Parallel(n_jobs=10)]: Done  52 tasks      | elapsed: 10.9min\n",
      "[Parallel(n_jobs=10)]: Done  53 tasks      | elapsed: 10.9min\n",
      "[Parallel(n_jobs=10)]: Done  54 tasks      | elapsed: 11.0min\n",
      "[Parallel(n_jobs=10)]: Done  55 tasks      | elapsed: 11.1min\n",
      "[Parallel(n_jobs=10)]: Done  56 tasks      | elapsed: 11.7min\n",
      "[Parallel(n_jobs=10)]: Done  57 tasks      | elapsed: 12.6min\n",
      "[Parallel(n_jobs=10)]: Done  58 tasks      | elapsed: 12.7min\n",
      "[Parallel(n_jobs=10)]: Done  59 tasks      | elapsed: 12.8min\n",
      "[Parallel(n_jobs=10)]: Done  60 tasks      | elapsed: 12.8min\n",
      "[Parallel(n_jobs=10)]: Done  61 tasks      | elapsed: 12.9min\n",
      "[Parallel(n_jobs=10)]: Done  62 tasks      | elapsed: 12.9min\n",
      "[Parallel(n_jobs=10)]: Done  63 tasks      | elapsed: 13.1min\n",
      "[Parallel(n_jobs=10)]: Done  64 tasks      | elapsed: 13.2min\n",
      "[Parallel(n_jobs=10)]: Done  65 tasks      | elapsed: 14.0min\n",
      "[Parallel(n_jobs=10)]: Done  66 tasks      | elapsed: 14.2min\n",
      "[Parallel(n_jobs=10)]: Done  67 tasks      | elapsed: 14.4min\n",
      "[Parallel(n_jobs=10)]: Done  68 tasks      | elapsed: 14.4min\n"
     ]
    }
   ],
   "source": [
    "data = song_wrapper('a263000355e6a46de29ec637820771ac7620369f', 100, song_dic, user_dic)"
   ]
  },
  {
   "cell_type": "code",
   "execution_count": null,
   "metadata": {},
   "outputs": [],
   "source": [
    "# print(sorted(data, key = lambda x: x[1]))\n",
    "print(data)"
   ]
  },
  {
   "cell_type": "code",
   "execution_count": null,
   "metadata": {},
   "outputs": [],
   "source": []
  }
 ],
 "metadata": {
  "kernelspec": {
   "display_name": "Python 3",
   "language": "python",
   "name": "python3"
  },
  "language_info": {
   "codemirror_mode": {
    "name": "ipython",
    "version": 3
   },
   "file_extension": ".py",
   "mimetype": "text/x-python",
   "name": "python",
   "nbconvert_exporter": "python",
   "pygments_lexer": "ipython3",
   "version": "3.7.4"
  }
 },
 "nbformat": 4,
 "nbformat_minor": 2
}
