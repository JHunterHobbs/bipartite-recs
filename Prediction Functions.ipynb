{
 "cells": [
  {
   "cell_type": "code",
   "execution_count": 1,
   "metadata": {},
   "outputs": [
    {
     "data": {
      "text/plain": [
       "0"
      ]
     },
     "execution_count": 1,
     "metadata": {},
     "output_type": "execute_result"
    }
   ],
   "source": [
    "import numpy as np\n",
    "import pandas as pd\n",
    "import networkx as nx\n",
    "import os\n",
    "from joblib import Parallel, delayed\n",
    "os.system(\"taskset -p 0xff %d\" % os.getpid())"
   ]
  },
  {
   "cell_type": "markdown",
   "metadata": {},
   "source": [
    "### Create Graph as dictionary"
   ]
  },
  {
   "cell_type": "code",
   "execution_count": 2,
   "metadata": {},
   "outputs": [
    {
     "data": {
      "text/html": [
       "<div>\n",
       "<style scoped>\n",
       "    .dataframe tbody tr th:only-of-type {\n",
       "        vertical-align: middle;\n",
       "    }\n",
       "\n",
       "    .dataframe tbody tr th {\n",
       "        vertical-align: top;\n",
       "    }\n",
       "\n",
       "    .dataframe thead th {\n",
       "        text-align: right;\n",
       "    }\n",
       "</style>\n",
       "<table border=\"1\" class=\"dataframe\">\n",
       "  <thead>\n",
       "    <tr style=\"text-align: right;\">\n",
       "      <th></th>\n",
       "      <th>user</th>\n",
       "      <th>song</th>\n",
       "      <th>weight</th>\n",
       "    </tr>\n",
       "  </thead>\n",
       "  <tbody>\n",
       "    <tr>\n",
       "      <th>0</th>\n",
       "      <td>b80344d063b5ccb3212f76538f3d9e43d87dca9e</td>\n",
       "      <td>SOBNZDC12A6D4FC103</td>\n",
       "      <td>1</td>\n",
       "    </tr>\n",
       "    <tr>\n",
       "      <th>1</th>\n",
       "      <td>b80344d063b5ccb3212f76538f3d9e43d87dca9e</td>\n",
       "      <td>SOBVFZR12A6D4F8AE3</td>\n",
       "      <td>1</td>\n",
       "    </tr>\n",
       "    <tr>\n",
       "      <th>2</th>\n",
       "      <td>b80344d063b5ccb3212f76538f3d9e43d87dca9e</td>\n",
       "      <td>SOEGVZY12A58A7857E</td>\n",
       "      <td>1</td>\n",
       "    </tr>\n",
       "    <tr>\n",
       "      <th>3</th>\n",
       "      <td>b80344d063b5ccb3212f76538f3d9e43d87dca9e</td>\n",
       "      <td>SOEKWEA12A6D4F5DC3</td>\n",
       "      <td>1</td>\n",
       "    </tr>\n",
       "    <tr>\n",
       "      <th>4</th>\n",
       "      <td>b80344d063b5ccb3212f76538f3d9e43d87dca9e</td>\n",
       "      <td>SOEOBYG12A6D4F8AE2</td>\n",
       "      <td>1</td>\n",
       "    </tr>\n",
       "  </tbody>\n",
       "</table>\n",
       "</div>"
      ],
      "text/plain": [
       "                                       user                song  weight\n",
       "0  b80344d063b5ccb3212f76538f3d9e43d87dca9e  SOBNZDC12A6D4FC103       1\n",
       "1  b80344d063b5ccb3212f76538f3d9e43d87dca9e  SOBVFZR12A6D4F8AE3       1\n",
       "2  b80344d063b5ccb3212f76538f3d9e43d87dca9e  SOEGVZY12A58A7857E       1\n",
       "3  b80344d063b5ccb3212f76538f3d9e43d87dca9e  SOEKWEA12A6D4F5DC3       1\n",
       "4  b80344d063b5ccb3212f76538f3d9e43d87dca9e  SOEOBYG12A6D4F8AE2       1"
      ]
     },
     "execution_count": 2,
     "metadata": {},
     "output_type": "execute_result"
    }
   ],
   "source": [
    "df = pd.read_csv('./data/selected_triplet_new.csv') \n",
    "df.head()"
   ]
  },
  {
   "cell_type": "code",
   "execution_count": 3,
   "metadata": {},
   "outputs": [
    {
     "data": {
      "text/html": [
       "<div>\n",
       "<style scoped>\n",
       "    .dataframe tbody tr th:only-of-type {\n",
       "        vertical-align: middle;\n",
       "    }\n",
       "\n",
       "    .dataframe tbody tr th {\n",
       "        vertical-align: top;\n",
       "    }\n",
       "\n",
       "    .dataframe thead th {\n",
       "        text-align: right;\n",
       "    }\n",
       "</style>\n",
       "<table border=\"1\" class=\"dataframe\">\n",
       "  <thead>\n",
       "    <tr style=\"text-align: right;\">\n",
       "      <th></th>\n",
       "      <th>user</th>\n",
       "      <th>song</th>\n",
       "      <th>weight</th>\n",
       "    </tr>\n",
       "  </thead>\n",
       "  <tbody>\n",
       "    <tr>\n",
       "      <th>4011287</th>\n",
       "      <td>a263000355e6a46de29ec637820771ac7620369f</td>\n",
       "      <td>SONSTND12AB018516E</td>\n",
       "      <td>2368</td>\n",
       "    </tr>\n",
       "    <tr>\n",
       "      <th>629006</th>\n",
       "      <td>ebed4965c03cb572d599bd851108e7ff320c287e</td>\n",
       "      <td>SOGVKZV12A8C143863</td>\n",
       "      <td>2130</td>\n",
       "    </tr>\n",
       "    <tr>\n",
       "      <th>2744</th>\n",
       "      <td>0d0f80a34807aab31a3521424d456d30bf2c93d9</td>\n",
       "      <td>SOFRRFT12A8C140C5C</td>\n",
       "      <td>1890</td>\n",
       "    </tr>\n",
       "    <tr>\n",
       "      <th>297775</th>\n",
       "      <td>45d26d78fe726118497aca6de26a5b91a929fddf</td>\n",
       "      <td>SOZVPPQ12A8C13F7A8</td>\n",
       "      <td>1539</td>\n",
       "    </tr>\n",
       "    <tr>\n",
       "      <th>3449816</th>\n",
       "      <td>3eef9b511ae8b3bcf6adf0bccc6547b55bc447b2</td>\n",
       "      <td>SOXFQJW12A8C1335E2</td>\n",
       "      <td>1460</td>\n",
       "    </tr>\n",
       "    <tr>\n",
       "      <th>...</th>\n",
       "      <td>...</td>\n",
       "      <td>...</td>\n",
       "      <td>...</td>\n",
       "    </tr>\n",
       "    <tr>\n",
       "      <th>2208749</th>\n",
       "      <td>e587f88c3e16f21706f24e0265139eb7d6aac654</td>\n",
       "      <td>SOJSISI12A8AE49E2C</td>\n",
       "      <td>1</td>\n",
       "    </tr>\n",
       "    <tr>\n",
       "      <th>2208750</th>\n",
       "      <td>e587f88c3e16f21706f24e0265139eb7d6aac654</td>\n",
       "      <td>SOJXQSY12AB017E227</td>\n",
       "      <td>1</td>\n",
       "    </tr>\n",
       "    <tr>\n",
       "      <th>2208752</th>\n",
       "      <td>e587f88c3e16f21706f24e0265139eb7d6aac654</td>\n",
       "      <td>SOKOAYH12A58A7B270</td>\n",
       "      <td>1</td>\n",
       "    </tr>\n",
       "    <tr>\n",
       "      <th>2208754</th>\n",
       "      <td>e587f88c3e16f21706f24e0265139eb7d6aac654</td>\n",
       "      <td>SOLHUAX12A6D4F9A22</td>\n",
       "      <td>1</td>\n",
       "    </tr>\n",
       "    <tr>\n",
       "      <th>5354956</th>\n",
       "      <td>b7815dbb206eb2831ce0fe040d0aa537e2e800f7</td>\n",
       "      <td>SOTNMFD12A58A7789E</td>\n",
       "      <td>1</td>\n",
       "    </tr>\n",
       "  </tbody>\n",
       "</table>\n",
       "<p>5354957 rows × 3 columns</p>\n",
       "</div>"
      ],
      "text/plain": [
       "                                             user                song  weight\n",
       "4011287  a263000355e6a46de29ec637820771ac7620369f  SONSTND12AB018516E    2368\n",
       "629006   ebed4965c03cb572d599bd851108e7ff320c287e  SOGVKZV12A8C143863    2130\n",
       "2744     0d0f80a34807aab31a3521424d456d30bf2c93d9  SOFRRFT12A8C140C5C    1890\n",
       "297775   45d26d78fe726118497aca6de26a5b91a929fddf  SOZVPPQ12A8C13F7A8    1539\n",
       "3449816  3eef9b511ae8b3bcf6adf0bccc6547b55bc447b2  SOXFQJW12A8C1335E2    1460\n",
       "...                                           ...                 ...     ...\n",
       "2208749  e587f88c3e16f21706f24e0265139eb7d6aac654  SOJSISI12A8AE49E2C       1\n",
       "2208750  e587f88c3e16f21706f24e0265139eb7d6aac654  SOJXQSY12AB017E227       1\n",
       "2208752  e587f88c3e16f21706f24e0265139eb7d6aac654  SOKOAYH12A58A7B270       1\n",
       "2208754  e587f88c3e16f21706f24e0265139eb7d6aac654  SOLHUAX12A6D4F9A22       1\n",
       "5354956  b7815dbb206eb2831ce0fe040d0aa537e2e800f7  SOTNMFD12A58A7789E       1\n",
       "\n",
       "[5354957 rows x 3 columns]"
      ]
     },
     "execution_count": 3,
     "metadata": {},
     "output_type": "execute_result"
    }
   ],
   "source": [
    "df.sort_values('weight', ascending=False)"
   ]
  },
  {
   "cell_type": "code",
   "execution_count": 4,
   "metadata": {},
   "outputs": [],
   "source": [
    "user_dic = {}\n",
    "song_dic = {}\n",
    "for edge in df.values.tolist():\n",
    "    user_id, song_id, listened_count = edge[0], edge[1], edge[2]\n",
    "    if user_id not in user_dic:\n",
    "        user_dic[user_id] = {}\n",
    "    user_dic[user_id][song_id] = listened_count    \n",
    "    \n",
    "    if song_id not in song_dic:\n",
    "        song_dic[song_id] = {}\n",
    "    song_dic[song_id][user_id] = listened_count\n"
   ]
  },
  {
   "cell_type": "code",
   "execution_count": 5,
   "metadata": {},
   "outputs": [
    {
     "name": "stdout",
     "output_type": "stream",
     "text": [
      "b80344d063b5ccb3212f76538f3d9e43d87dca9e {'SOBNZDC12A6D4FC103': 1, 'SOBVFZR12A6D4F8AE3': 1, 'SOEGVZY12A58A7857E': 1, 'SOEKWEA12A6D4F5DC3': 1, 'SOEOBYG12A6D4F8AE2': 1, 'SOFFJPX12A6D4F7456': 1, 'SOFTKSZ12A6D4F5DC5': 1, 'SOFZFQU12A8C13CAB8': 1, 'SOHQIAG12A8C136F64': 1, 'SOHQZCA12A6D4FB317': 1, 'SOIAOBY12A8C13BF75': 1, 'SOIQOQT12A8C136F96': 1, 'SOKSIKA12A6D4F5DC7': 1, 'SONYTAN12A8C13BF88': 1, 'SOOSIVQ12A6D4F8AE0': 1, 'SOPBCSY12A6D4F5DC4': 1, 'SOQEMEN12A8C13BF8B': 1, 'SORDDVI12A8C136F53': 1, 'SORJNVW12A8C13BF90': 1, 'SORSAJY12A6D4F7457': 1, 'SOTCPHF12A8C13BF9B': 1, 'SOTHMIK12A8C136FA1': 1, 'SOUQUBU12AF72A47B3': 1, 'SOVAJXX12A8AE47D5C': 1, 'SOVZRXZ12A58A77A88': 1, 'SOXSPON12A6D4F5DC2': 1, 'SOZGCUB12A8C133997': 1, 'SOZZHXI12A8C13BF7D': 1}\n"
     ]
    }
   ],
   "source": [
    "for user, songs in user_dic.items():\n",
    "    print(user, songs)\n",
    "    break"
   ]
  },
  {
   "cell_type": "code",
   "execution_count": 9,
   "metadata": {},
   "outputs": [],
   "source": [
    "'''\n",
    "Calculates the sum of the weights of an edgeslist of the bipartite graph\n",
    "Takes in a list of edges (the ones adjacent to the user or the song.)\n",
    "'''\n",
    "\n",
    "def cal_adj_weights(dic):\n",
    "    total_weight = 0.0\n",
    "    for key, weight in dic.items():\n",
    "        total_weight += weight\n",
    "\n",
    "    return (total_weight)\n",
    "\n",
    "'''\n",
    "Finds the average number of song listens by a user u.\n",
    "bipart_g: is a weighted bipartite networkx Graph, where the weight = # of listens of song s by user u\n",
    "It returns 1 / |S_u| Σ r_(u,s) => the average listens for a user u\n",
    "'''\n",
    "\n",
    "def mean_ru(user_u):\n",
    "    songs_u = user_dic[user_u]\n",
    "    song_count = len(songs_u) # R_u\n",
    "    listen_count = cal_adj_weights(songs_u)\n",
    "    return (listen_count / song_count)\n",
    "\n",
    "\n",
    "'''\n",
    "Finds the 2-step random walk recommendation power for an arbitrary user v from a choosen user u\n",
    "We know both users u,v\n",
    "This is P(u -> s -> v), as this is a bipartite graph\n",
    "v is always 2 steps from u\n",
    "P(Transition from user u to song s) = r_(u,s) / R_u\n",
    "\n",
    "P(Transition from song s to user v) = r_(v,s) / R_s\n",
    "'''\n",
    "def rec_power_u_v(user_u, user_v):\n",
    "    songs_u = user_dic[user_u]\n",
    "    songs_v = user_dic[user_v]\n",
    "    \n",
    "    song_count_u = len(songs_u)\n",
    "    listen_count_u = cal_adj_weights(songs_u) # R_u\n",
    "    \n",
    "    running_value = 0.0\n",
    "    \n",
    "    for s in songs_u:\n",
    "        users_s = song_dic[s]\n",
    "        listen_count_s = cal_adj_weights(song_dic[s]) # R_s\n",
    "        \n",
    "        if user_v in users_s:\n",
    "            user_u_listens_s = user_dic[user_u][s] # r_{u,s}\n",
    "            user_v_listens_s = user_dic[user_v][s] # r_{v,s}\n",
    "            running_value += user_v_listens_s * user_u_listens_s / listen_count_s\n",
    "    return (running_value / listen_count_u)\n",
    "\n",
    "\n",
    "\n",
    "'''\n",
    "Predicts the number of listens that user u will give to song s\n",
    "'''\n",
    "def predict_listens(user_u, song_s, total_users):\n",
    "    u_bar = mean_ru(user_u)\n",
    "    running_value = 0.0\n",
    "    for v in total_users:\n",
    "        if v in song_dic[song_s]:\n",
    "            v_bar = mean_ru(v)\n",
    "            user_v_listens_s = user_dic[v][song_s]\n",
    "            rp_u_v = rec_power_u_v(user_u, v)\n",
    "            running_value += (rp_u_v * (user_v_listens_s - v_bar))            \n",
    "    return u_bar + running_value"
   ]
  },
  {
   "cell_type": "code",
   "execution_count": 26,
   "metadata": {},
   "outputs": [
    {
     "name": "stdout",
     "output_type": "stream",
     "text": [
      "1902.2455099505792\n"
     ]
    }
   ],
   "source": [
    "rating = predict_listens('a263000355e6a46de29ec637820771ac7620369f', 'SONSTND12AB018516E', list(user_dic.keys()))\n",
    "print(rating)"
   ]
  },
  {
   "cell_type": "code",
   "execution_count": 27,
   "metadata": {},
   "outputs": [],
   "source": [
    "def predict_wrapper(user_u, song_s, total_users):\n",
    "    pred_listen = predict_listens(user_u, song_s, total_users)\n",
    "    return (song_s, pred_listen)\n",
    "\n",
    "'''\n",
    "Parallel wrapper to predict the number of listens that a user will listen to a given song\n",
    "n = number of users to go through\n",
    "'''\n",
    "def song_wrapper(user, n, song_dic, user_dic):\n",
    "    song_dic_subset = list(song_dic.keys())[:n]\n",
    "    listens = Parallel(n_jobs = 10, verbose = 20, prefer='processes', backend = 'threading')(delayed(predict_wrapper)(user_u = user, song_s = song, total_users = user_dic) for song in song_dic_subset)\n",
    "    return listens"
   ]
  },
  {
   "cell_type": "code",
   "execution_count": 28,
   "metadata": {},
   "outputs": [
    {
     "name": "stderr",
     "output_type": "stream",
     "text": [
      "[Parallel(n_jobs=10)]: Using backend ThreadingBackend with 10 concurrent workers.\n",
      "[Parallel(n_jobs=10)]: Done   1 tasks      | elapsed:    0.3s\n",
      "[Parallel(n_jobs=10)]: Done   2 tasks      | elapsed:    0.3s\n",
      "[Parallel(n_jobs=10)]: Done   3 tasks      | elapsed:    0.5s\n",
      "[Parallel(n_jobs=10)]: Done   4 tasks      | elapsed:    0.5s\n",
      "[Parallel(n_jobs=10)]: Done   5 tasks      | elapsed:    0.7s\n",
      "[Parallel(n_jobs=10)]: Done   6 tasks      | elapsed:    0.7s\n",
      "[Parallel(n_jobs=10)]: Done   7 tasks      | elapsed:    0.7s\n",
      "[Parallel(n_jobs=10)]: Done   8 tasks      | elapsed:    0.7s\n",
      "[Parallel(n_jobs=10)]: Done   9 tasks      | elapsed:    1.0s\n",
      "[Parallel(n_jobs=10)]: Done  10 tasks      | elapsed:    1.0s\n",
      "[Parallel(n_jobs=10)]: Done  11 tasks      | elapsed:    1.9s\n",
      "[Parallel(n_jobs=10)]: Done  12 tasks      | elapsed:    1.9s\n",
      "[Parallel(n_jobs=10)]: Done  13 tasks      | elapsed:    1.9s\n",
      "[Parallel(n_jobs=10)]: Done  14 tasks      | elapsed:    1.9s\n",
      "[Parallel(n_jobs=10)]: Done  15 tasks      | elapsed:    1.9s\n",
      "[Parallel(n_jobs=10)]: Done  16 tasks      | elapsed:    1.9s\n",
      "[Parallel(n_jobs=10)]: Done  17 tasks      | elapsed:    1.9s\n",
      "[Parallel(n_jobs=10)]: Done  18 tasks      | elapsed:    1.9s\n",
      "[Parallel(n_jobs=10)]: Done  19 tasks      | elapsed:    1.9s\n",
      "[Parallel(n_jobs=10)]: Done  20 tasks      | elapsed:    1.9s\n",
      "[Parallel(n_jobs=10)]: Done  21 tasks      | elapsed:    1.9s\n",
      "[Parallel(n_jobs=10)]: Done  22 tasks      | elapsed:    1.9s\n",
      "[Parallel(n_jobs=10)]: Done  23 tasks      | elapsed:    1.9s\n",
      "[Parallel(n_jobs=10)]: Done  24 tasks      | elapsed:    1.9s\n",
      "[Parallel(n_jobs=10)]: Done  25 tasks      | elapsed:    1.9s\n",
      "[Parallel(n_jobs=10)]: Done  26 tasks      | elapsed:    2.0s\n",
      "[Parallel(n_jobs=10)]: Done  27 tasks      | elapsed:    2.4s\n",
      "[Parallel(n_jobs=10)]: Done  28 tasks      | elapsed:    2.4s\n",
      "[Parallel(n_jobs=10)]: Done  29 tasks      | elapsed:    2.4s\n",
      "[Parallel(n_jobs=10)]: Done  30 tasks      | elapsed:    3.2s\n",
      "[Parallel(n_jobs=10)]: Done  31 tasks      | elapsed:    3.3s\n",
      "[Parallel(n_jobs=10)]: Done  32 tasks      | elapsed:    3.3s\n",
      "[Parallel(n_jobs=10)]: Done  33 tasks      | elapsed:    3.3s\n",
      "[Parallel(n_jobs=10)]: Done  34 tasks      | elapsed:    3.3s\n",
      "[Parallel(n_jobs=10)]: Done  35 tasks      | elapsed:    3.3s\n",
      "[Parallel(n_jobs=10)]: Done  36 tasks      | elapsed:    3.3s\n",
      "[Parallel(n_jobs=10)]: Done  37 tasks      | elapsed:    3.3s\n",
      "[Parallel(n_jobs=10)]: Done  38 tasks      | elapsed:    3.3s\n",
      "[Parallel(n_jobs=10)]: Done  39 tasks      | elapsed:    3.3s\n",
      "[Parallel(n_jobs=10)]: Done  40 tasks      | elapsed:    3.3s\n",
      "[Parallel(n_jobs=10)]: Done  41 tasks      | elapsed:    3.3s\n",
      "[Parallel(n_jobs=10)]: Done  42 tasks      | elapsed:    3.3s\n",
      "[Parallel(n_jobs=10)]: Done  43 tasks      | elapsed:    3.4s\n",
      "[Parallel(n_jobs=10)]: Done  44 tasks      | elapsed:    3.4s\n",
      "[Parallel(n_jobs=10)]: Done  45 tasks      | elapsed:    4.5s\n",
      "[Parallel(n_jobs=10)]: Done  46 tasks      | elapsed:    4.5s\n",
      "[Parallel(n_jobs=10)]: Done  47 tasks      | elapsed:    4.5s\n",
      "[Parallel(n_jobs=10)]: Done  48 tasks      | elapsed:    4.5s\n",
      "[Parallel(n_jobs=10)]: Done  49 tasks      | elapsed:    4.5s\n",
      "[Parallel(n_jobs=10)]: Done  50 tasks      | elapsed:    4.5s\n",
      "[Parallel(n_jobs=10)]: Done  51 tasks      | elapsed:    4.5s\n",
      "[Parallel(n_jobs=10)]: Done  52 tasks      | elapsed:    4.5s\n",
      "[Parallel(n_jobs=10)]: Done  53 tasks      | elapsed:    4.5s\n",
      "[Parallel(n_jobs=10)]: Done  54 tasks      | elapsed:    4.5s\n",
      "[Parallel(n_jobs=10)]: Done  55 tasks      | elapsed:    4.5s\n",
      "[Parallel(n_jobs=10)]: Done  56 tasks      | elapsed:    4.5s\n",
      "[Parallel(n_jobs=10)]: Done  57 tasks      | elapsed:    4.5s\n",
      "[Parallel(n_jobs=10)]: Done  58 tasks      | elapsed:    4.5s\n",
      "[Parallel(n_jobs=10)]: Done  59 tasks      | elapsed:    4.5s\n",
      "[Parallel(n_jobs=10)]: Done  60 tasks      | elapsed:    4.5s\n",
      "[Parallel(n_jobs=10)]: Done  61 tasks      | elapsed:    4.5s\n",
      "[Parallel(n_jobs=10)]: Done  62 tasks      | elapsed:    4.5s\n",
      "[Parallel(n_jobs=10)]: Done  63 tasks      | elapsed:    4.5s\n",
      "[Parallel(n_jobs=10)]: Done  64 tasks      | elapsed:    5.1s\n",
      "[Parallel(n_jobs=10)]: Done  65 tasks      | elapsed:    5.1s\n",
      "[Parallel(n_jobs=10)]: Done  66 tasks      | elapsed:    5.1s\n",
      "[Parallel(n_jobs=10)]: Done  67 tasks      | elapsed:    5.1s\n",
      "[Parallel(n_jobs=10)]: Done  68 tasks      | elapsed:    5.4s\n",
      "[Parallel(n_jobs=10)]: Done  69 tasks      | elapsed:    5.4s\n",
      "[Parallel(n_jobs=10)]: Done  70 tasks      | elapsed:    5.4s\n",
      "[Parallel(n_jobs=10)]: Done  71 tasks      | elapsed:    5.6s\n",
      "[Parallel(n_jobs=10)]: Done  72 tasks      | elapsed:    5.7s\n",
      "[Parallel(n_jobs=10)]: Done  73 tasks      | elapsed:    5.8s\n",
      "[Parallel(n_jobs=10)]: Done  74 tasks      | elapsed:    5.8s\n",
      "[Parallel(n_jobs=10)]: Done  75 tasks      | elapsed:    5.8s\n",
      "[Parallel(n_jobs=10)]: Done  76 tasks      | elapsed:    5.8s\n",
      "[Parallel(n_jobs=10)]: Done  77 tasks      | elapsed:    6.1s\n",
      "[Parallel(n_jobs=10)]: Done  78 tasks      | elapsed:    6.1s\n",
      "[Parallel(n_jobs=10)]: Done  79 tasks      | elapsed:    6.1s\n",
      "[Parallel(n_jobs=10)]: Done  80 tasks      | elapsed:    6.1s\n",
      "[Parallel(n_jobs=10)]: Done  81 tasks      | elapsed:    6.2s\n",
      "[Parallel(n_jobs=10)]: Done  87 out of 100 | elapsed:    6.6s remaining:    1.0s\n",
      "[Parallel(n_jobs=10)]: Done  93 out of 100 | elapsed:    7.1s remaining:    0.5s\n",
      "[Parallel(n_jobs=10)]: Done 100 out of 100 | elapsed:    7.2s finished\n"
     ]
    }
   ],
   "source": [
    "data = song_wrapper('a263000355e6a46de29ec637820771ac7620369f', 100, song_dic, user_dic)"
   ]
  },
  {
   "cell_type": "code",
   "execution_count": 29,
   "metadata": {},
   "outputs": [
    {
     "name": "stdout",
     "output_type": "stream",
     "text": [
      "[('SOYBHPX12A8C13B0A9', 186.07679518048494), ('SOEKWEA12A6D4F5DC3', 186.07688420864935), ('SOFTKSZ12A6D4F5DC5', 186.07688420864935), ('SOKSIKA12A6D4F5DC7', 186.07688420864935), ('SOPBCSY12A6D4F5DC4', 186.07688420864935), ('SOFSCTZ12A6D4F992B', 186.07692268279746), ('SOBNZDC12A6D4FC103', 186.07692307692307), ('SOBVFZR12A6D4F8AE3', 186.07692307692307), ('SOEGVZY12A58A7857E', 186.07692307692307), ('SOEOBYG12A6D4F8AE2', 186.07692307692307), ('SOFFJPX12A6D4F7456', 186.07692307692307), ('SOHQIAG12A8C136F64', 186.07692307692307), ('SOHQZCA12A6D4FB317', 186.07692307692307), ('SOIAOBY12A8C13BF75', 186.07692307692307), ('SOIQOQT12A8C136F96', 186.07692307692307), ('SONYTAN12A8C13BF88', 186.07692307692307), ('SOOSIVQ12A6D4F8AE0', 186.07692307692307), ('SOQEMEN12A8C13BF8B', 186.07692307692307), ('SORDDVI12A8C136F53', 186.07692307692307), ('SORJNVW12A8C13BF90', 186.07692307692307), ('SORSAJY12A6D4F7457', 186.07692307692307), ('SOTCPHF12A8C13BF9B', 186.07692307692307), ('SOTHMIK12A8C136FA1', 186.07692307692307), ('SOUQUBU12AF72A47B3', 186.07692307692307), ('SOVAJXX12A8AE47D5C', 186.07692307692307), ('SOVZRXZ12A58A77A88', 186.07692307692307), ('SOXSPON12A6D4F5DC2', 186.07692307692307), ('SOZGCUB12A8C133997', 186.07692307692307), ('SOZZHXI12A8C13BF7D', 186.07692307692307), ('SOACWYB12AF729E581', 186.07692307692307), ('SOAUSXX12A8C136188', 186.07692307692307), ('SOBVAHM12A8C13C4CB', 186.07692307692307), ('SOELXOV12A8C13616B', 186.07692307692307), ('SOGGLLR12A8C13C471', 186.07692307692307), ('SOHANDU12A8C13C47F', 186.07692307692307), ('SOIDFHN12A8C13ABAC', 186.07692307692307), ('SOJONCB12A8C13B8F5', 186.07692307692307), ('SOKLBHE12A8C13B8FA', 186.07692307692307), ('SOOSOJV12A8C13B8F2', 186.07692307692307), ('SOQWKES12A8C136184', 186.07692307692307), ('SOTVFEF12AF729E6CE', 186.07692307692307), ('SOTXQVF12A8C13ABBA', 186.07692307692307), ('SOUOAUF12A58A7EC58', 186.07692307692307), ('SOEBOAR12A6D4FD136', 186.07692307692307), ('SOFRDND12A58A7D6C5', 186.07692307692307), ('SOLCKXH12A58A79553', 186.07692307692307), ('SOQTRKE12A6701C596', 186.07692307692307), ('SOTUZXK12AB017BC50', 186.07692307692307), ('SOUHQXW12A8C13CAB5', 186.07692307692307), ('SOULCVQ12A8AE474FC', 186.07692307692307), ('SOCFPEA12A6701CD37', 186.07692307692307), ('SOHFHEP12A8C135C0E', 186.07692307692307), ('SOKDLBH12AB01892F0', 186.07692307692307), ('SORFXUY12A6D4F96F4', 186.07692307692307), ('SOYNLAI12A58A7F409', 186.07692307692307), ('SOAUUDU12A6D4F9142', 186.07692307692307), ('SOGVSBV12AB0187440', 186.07692307692307), ('SOXBXBI12A8C13C71C', 186.07692307692307), ('SOIWKTZ12A8C13571B', 186.07692307692307), ('SOJZXZE12A6D227167', 186.07692307692307), ('SOWNNPR12A6D4FB51B', 186.07692307692307), ('SOARNMW12A8C14093C', 186.07692307692307), ('SOBEZLZ12A8C1421BC', 186.07692307692307), ('SOKAYUX12AB01835F6', 186.07692307692307), ('SONYFNI12AB0185B47', 186.07692307692307), ('SOXMXWE12A6D4FB2FD', 186.07692307692307), ('SOAUQTR12A67020A68', 186.07692307692307), ('SOEABHG12A8151BA59', 186.07692307692307), ('SOHTUMP12A67020A65', 186.07692307692307), ('SOJOZVB12AF729D046', 186.07692307692307), ('SOKHWZT12A58A7F198', 186.07692307692307), ('SOKPODE12A67020A64', 186.07692307692307), ('SOKWGHV12A67020A67', 186.07692307692307), ('SOPLAHG12A67020A66', 186.07692307692307), ('SOQSGRF12A58A7A3AF', 186.07692307692307), ('SOVCLFP12A67020A69', 186.07692307692307), ('SOAJIXC12AB0183243', 186.07692307692307), ('SOAMTJF12A6D4F76CC', 186.07692307692307), ('SOCZOOF12A6D4FA579', 186.07692307692307), ('SOEXOAH12A81C20728', 186.07692307692307), ('SOHPZJK12AB018AF87', 186.07692307692307), ('SOLFUPR12A6D4F9A3D', 186.07692307692307), ('SOXMMCO12A6D4F778F', 186.07692307692307), ('SOCBYNH12AB01817F5', 186.07692307692307), ('SOFMTKF12AB01879CB', 186.07692307692307), ('SOHMLNS12A58A7DA68', 186.07692307692307), ('SOJCLYS12A6D4FB9F9', 186.07692307692307), ('SOMWBDZ12A8C135260', 186.07692307692307), ('SOJMPNJ12A58A7C164', 186.07692307692307), ('SOUZHHG12A58A7B4F5', 186.07692307692307), ('SOEGITU12A6D4F5B1A', 186.07692307692307), ('SOIIJZW12A6D4F6299', 186.07692307692307), ('SOMEDGV12A8C13F9D1', 186.07692307692307), ('SOABULH12A8C1331A4', 186.07692307692307), ('SOBITIZ12A6D4F831F', 186.07692307692307), ('SORSIVK12AF72A1348', 186.07692310932072), ('SOBTBUM12A8C13C326', 186.07692360242388), ('SOJQTIA12AF729F6BF', 186.0769281648488), ('SOFZFQU12A8C13CAB8', 186.07733320422508), ('SOFXYAT12A8AE465EF', 186.07747950694687)]\n"
     ]
    }
   ],
   "source": [
    "print(sorted(data, key = lambda x: x[1]))"
   ]
  },
  {
   "cell_type": "code",
   "execution_count": null,
   "metadata": {},
   "outputs": [],
   "source": []
  }
 ],
 "metadata": {
  "kernelspec": {
   "display_name": "Python 3",
   "language": "python",
   "name": "python3"
  },
  "language_info": {
   "codemirror_mode": {
    "name": "ipython",
    "version": 3
   },
   "file_extension": ".py",
   "mimetype": "text/x-python",
   "name": "python",
   "nbconvert_exporter": "python",
   "pygments_lexer": "ipython3",
   "version": "3.7.5"
  }
 },
 "nbformat": 4,
 "nbformat_minor": 2
}
