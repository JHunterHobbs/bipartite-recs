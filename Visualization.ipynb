{
 "cells": [
  {
   "cell_type": "code",
   "execution_count": 2,
   "metadata": {},
   "outputs": [],
   "source": [
    "import networkx as nx\n",
    "import matplotlib.pyplot as plt\n",
    "import pandas as pd\n",
    "import gzip\n",
    "import seaborn as sns"
   ]
  },
  {
   "cell_type": "code",
   "execution_count": 38,
   "metadata": {},
   "outputs": [
    {
     "data": {
      "text/html": [
       "<div>\n",
       "<style scoped>\n",
       "    .dataframe tbody tr th:only-of-type {\n",
       "        vertical-align: middle;\n",
       "    }\n",
       "\n",
       "    .dataframe tbody tr th {\n",
       "        vertical-align: top;\n",
       "    }\n",
       "\n",
       "    .dataframe thead th {\n",
       "        text-align: right;\n",
       "    }\n",
       "</style>\n",
       "<table border=\"1\" class=\"dataframe\">\n",
       "  <thead>\n",
       "    <tr style=\"text-align: right;\">\n",
       "      <th></th>\n",
       "      <th>track_id</th>\n",
       "      <th>song_id</th>\n",
       "      <th>artist</th>\n",
       "      <th>title</th>\n",
       "    </tr>\n",
       "  </thead>\n",
       "  <tbody>\n",
       "    <tr>\n",
       "      <td>0</td>\n",
       "      <td>TRMMMYQ128F932D901</td>\n",
       "      <td>SOQMMHC12AB0180CB8</td>\n",
       "      <td>Faster Pussy cat</td>\n",
       "      <td>Silent Night</td>\n",
       "    </tr>\n",
       "    <tr>\n",
       "      <td>1</td>\n",
       "      <td>TRMMMKD128F425225D</td>\n",
       "      <td>SOVFVAK12A8C1350D9</td>\n",
       "      <td>Karkkiautomaatti</td>\n",
       "      <td>Tanssi vaan</td>\n",
       "    </tr>\n",
       "    <tr>\n",
       "      <td>2</td>\n",
       "      <td>TRMMMRX128F93187D9</td>\n",
       "      <td>SOGTUKN12AB017F4F1</td>\n",
       "      <td>Hudson Mohawke</td>\n",
       "      <td>No One Could Ever</td>\n",
       "    </tr>\n",
       "    <tr>\n",
       "      <td>3</td>\n",
       "      <td>TRMMMCH128F425532C</td>\n",
       "      <td>SOBNYVR12A8C13558C</td>\n",
       "      <td>Yerba Brava</td>\n",
       "      <td>Si Vos Querés</td>\n",
       "    </tr>\n",
       "    <tr>\n",
       "      <td>4</td>\n",
       "      <td>TRMMMWA128F426B589</td>\n",
       "      <td>SOHSBXH12A8C13B0DF</td>\n",
       "      <td>Der Mystic</td>\n",
       "      <td>Tangle Of Aspens</td>\n",
       "    </tr>\n",
       "  </tbody>\n",
       "</table>\n",
       "</div>"
      ],
      "text/plain": [
       "             track_id             song_id            artist              title\n",
       "0  TRMMMYQ128F932D901  SOQMMHC12AB0180CB8  Faster Pussy cat       Silent Night\n",
       "1  TRMMMKD128F425225D  SOVFVAK12A8C1350D9  Karkkiautomaatti        Tanssi vaan\n",
       "2  TRMMMRX128F93187D9  SOGTUKN12AB017F4F1    Hudson Mohawke  No One Could Ever\n",
       "3  TRMMMCH128F425532C  SOBNYVR12A8C13558C       Yerba Brava      Si Vos Querés\n",
       "4  TRMMMWA128F426B589  SOHSBXH12A8C13B0DF        Der Mystic   Tangle Of Aspens"
      ]
     },
     "execution_count": 38,
     "metadata": {},
     "output_type": "execute_result"
    }
   ],
   "source": [
    "song_data = []\n",
    "with gzip.open('data/unique_tracks.txt.gz', mode='rt') as f:\n",
    "    for row in f:\n",
    "        row = row.strip()\n",
    "        fields = row.split('<SEP>')\n",
    "        song_data.append(fields)\n",
    "song_df = pd.DataFrame(song_data, columns=['track_id', 'song_id', 'artist', 'title'])\n",
    "song_df.head()"
   ]
  },
  {
   "cell_type": "code",
   "execution_count": 42,
   "metadata": {},
   "outputs": [
    {
     "data": {
      "text/html": [
       "<div>\n",
       "<style scoped>\n",
       "    .dataframe tbody tr th:only-of-type {\n",
       "        vertical-align: middle;\n",
       "    }\n",
       "\n",
       "    .dataframe tbody tr th {\n",
       "        vertical-align: top;\n",
       "    }\n",
       "\n",
       "    .dataframe thead th {\n",
       "        text-align: right;\n",
       "    }\n",
       "</style>\n",
       "<table border=\"1\" class=\"dataframe\">\n",
       "  <thead>\n",
       "    <tr style=\"text-align: right;\">\n",
       "      <th></th>\n",
       "      <th>user_id</th>\n",
       "      <th>song_id</th>\n",
       "      <th>weight</th>\n",
       "    </tr>\n",
       "  </thead>\n",
       "  <tbody>\n",
       "    <tr>\n",
       "      <td>0</td>\n",
       "      <td>b80344d063b5ccb3212f76538f3d9e43d87dca9e</td>\n",
       "      <td>SOBNZDC12A6D4FC103</td>\n",
       "      <td>1</td>\n",
       "    </tr>\n",
       "    <tr>\n",
       "      <td>1</td>\n",
       "      <td>b80344d063b5ccb3212f76538f3d9e43d87dca9e</td>\n",
       "      <td>SOBVFZR12A6D4F8AE3</td>\n",
       "      <td>1</td>\n",
       "    </tr>\n",
       "    <tr>\n",
       "      <td>2</td>\n",
       "      <td>b80344d063b5ccb3212f76538f3d9e43d87dca9e</td>\n",
       "      <td>SOEGVZY12A58A7857E</td>\n",
       "      <td>1</td>\n",
       "    </tr>\n",
       "    <tr>\n",
       "      <td>3</td>\n",
       "      <td>b80344d063b5ccb3212f76538f3d9e43d87dca9e</td>\n",
       "      <td>SOEKWEA12A6D4F5DC3</td>\n",
       "      <td>1</td>\n",
       "    </tr>\n",
       "    <tr>\n",
       "      <td>4</td>\n",
       "      <td>b80344d063b5ccb3212f76538f3d9e43d87dca9e</td>\n",
       "      <td>SOEOBYG12A6D4F8AE2</td>\n",
       "      <td>1</td>\n",
       "    </tr>\n",
       "  </tbody>\n",
       "</table>\n",
       "</div>"
      ],
      "text/plain": [
       "                                    user_id             song_id  weight\n",
       "0  b80344d063b5ccb3212f76538f3d9e43d87dca9e  SOBNZDC12A6D4FC103       1\n",
       "1  b80344d063b5ccb3212f76538f3d9e43d87dca9e  SOBVFZR12A6D4F8AE3       1\n",
       "2  b80344d063b5ccb3212f76538f3d9e43d87dca9e  SOEGVZY12A58A7857E       1\n",
       "3  b80344d063b5ccb3212f76538f3d9e43d87dca9e  SOEKWEA12A6D4F5DC3       1\n",
       "4  b80344d063b5ccb3212f76538f3d9e43d87dca9e  SOEOBYG12A6D4F8AE2       1"
      ]
     },
     "execution_count": 42,
     "metadata": {},
     "output_type": "execute_result"
    }
   ],
   "source": [
    "df = pd.read_csv('data/selected_triplet.csv')\n",
    "df.columns = ['user_id', 'song_id', 'weight']\n",
    "df.head()"
   ]
  },
  {
   "cell_type": "code",
   "execution_count": 43,
   "metadata": {
    "scrolled": true
   },
   "outputs": [
    {
     "data": {
      "text/html": [
       "<div>\n",
       "<style scoped>\n",
       "    .dataframe tbody tr th:only-of-type {\n",
       "        vertical-align: middle;\n",
       "    }\n",
       "\n",
       "    .dataframe tbody tr th {\n",
       "        vertical-align: top;\n",
       "    }\n",
       "\n",
       "    .dataframe thead th {\n",
       "        text-align: right;\n",
       "    }\n",
       "</style>\n",
       "<table border=\"1\" class=\"dataframe\">\n",
       "  <thead>\n",
       "    <tr style=\"text-align: right;\">\n",
       "      <th></th>\n",
       "      <th>song_id</th>\n",
       "      <th>weight</th>\n",
       "      <th>track_id</th>\n",
       "      <th>artist</th>\n",
       "      <th>title</th>\n",
       "    </tr>\n",
       "  </thead>\n",
       "  <tbody>\n",
       "    <tr>\n",
       "      <td>0</td>\n",
       "      <td>SOAAADD12AB018A9DD</td>\n",
       "      <td>19</td>\n",
       "      <td>TRNCENP12903C9EF3A</td>\n",
       "      <td>Harold Budd</td>\n",
       "      <td>The Room Of Stairs</td>\n",
       "    </tr>\n",
       "    <tr>\n",
       "      <td>1</td>\n",
       "      <td>SOAAADE12A6D4F80CC</td>\n",
       "      <td>2</td>\n",
       "      <td>TRSKKFK128F148B615</td>\n",
       "      <td>Dave Edmunds</td>\n",
       "      <td>(I'm Gonna Start) Living Again If It Kills Me ...</td>\n",
       "    </tr>\n",
       "    <tr>\n",
       "      <td>2</td>\n",
       "      <td>SOAAADF12A8C13DF62</td>\n",
       "      <td>6</td>\n",
       "      <td>TRCQMSP128F428A6F7</td>\n",
       "      <td>LANDA DANIEL</td>\n",
       "      <td>KRYSAR (LIVE)</td>\n",
       "    </tr>\n",
       "    <tr>\n",
       "      <td>3</td>\n",
       "      <td>SOAAADZ12A8C1334FB</td>\n",
       "      <td>5</td>\n",
       "      <td>TRMDNZY128F425A532</td>\n",
       "      <td>Paul Cardall</td>\n",
       "      <td>Joy To The World</td>\n",
       "    </tr>\n",
       "    <tr>\n",
       "      <td>4</td>\n",
       "      <td>SOAAAFI12A6D4F9C66</td>\n",
       "      <td>95</td>\n",
       "      <td>TRZEXLQ128F1491D17</td>\n",
       "      <td>I Love You But I've Chosen Darkness</td>\n",
       "      <td>The Less You See</td>\n",
       "    </tr>\n",
       "  </tbody>\n",
       "</table>\n",
       "</div>"
      ],
      "text/plain": [
       "              song_id  weight            track_id  \\\n",
       "0  SOAAADD12AB018A9DD      19  TRNCENP12903C9EF3A   \n",
       "1  SOAAADE12A6D4F80CC       2  TRSKKFK128F148B615   \n",
       "2  SOAAADF12A8C13DF62       6  TRCQMSP128F428A6F7   \n",
       "3  SOAAADZ12A8C1334FB       5  TRMDNZY128F425A532   \n",
       "4  SOAAAFI12A6D4F9C66      95  TRZEXLQ128F1491D17   \n",
       "\n",
       "                                artist  \\\n",
       "0                          Harold Budd   \n",
       "1                         Dave Edmunds   \n",
       "2                         LANDA DANIEL   \n",
       "3                         Paul Cardall   \n",
       "4  I Love You But I've Chosen Darkness   \n",
       "\n",
       "                                               title  \n",
       "0                                 The Room Of Stairs  \n",
       "1  (I'm Gonna Start) Living Again If It Kills Me ...  \n",
       "2                                      KRYSAR (LIVE)  \n",
       "3                                   Joy To The World  \n",
       "4                                   The Less You See  "
      ]
     },
     "execution_count": 43,
     "metadata": {},
     "output_type": "execute_result"
    }
   ],
   "source": [
    "grouped_df = df.groupby('song_id').sum().reset_index()\n",
    "merged_df = grouped_df.merge(song_df, on='song_id', how='left')\n",
    "merged_df.head()"
   ]
  },
  {
   "cell_type": "code",
   "execution_count": 46,
   "metadata": {
    "collapsed": true
   },
   "outputs": [
    {
     "data": {
      "text/html": [
       "<div>\n",
       "<style scoped>\n",
       "    .dataframe tbody tr th:only-of-type {\n",
       "        vertical-align: middle;\n",
       "    }\n",
       "\n",
       "    .dataframe tbody tr th {\n",
       "        vertical-align: top;\n",
       "    }\n",
       "\n",
       "    .dataframe thead th {\n",
       "        text-align: right;\n",
       "    }\n",
       "</style>\n",
       "<table border=\"1\" class=\"dataframe\">\n",
       "  <thead>\n",
       "    <tr style=\"text-align: right;\">\n",
       "      <th></th>\n",
       "      <th>song_id</th>\n",
       "      <th>weight</th>\n",
       "      <th>track_id</th>\n",
       "      <th>artist</th>\n",
       "      <th>title</th>\n",
       "    </tr>\n",
       "  </thead>\n",
       "  <tbody>\n",
       "    <tr>\n",
       "      <td>38268</td>\n",
       "      <td>SODGGWN12A8C1366B5</td>\n",
       "      <td>3970</td>\n",
       "      <td>TRWUHJV128F425315B</td>\n",
       "      <td>The Members</td>\n",
       "      <td>Working Girl</td>\n",
       "    </tr>\n",
       "    <tr>\n",
       "      <td>157300</td>\n",
       "      <td>SONSTND12AB018516E</td>\n",
       "      <td>2963</td>\n",
       "      <td>TREORMB12903CBCFFE</td>\n",
       "      <td>Jason Falkner</td>\n",
       "      <td>I Go Astray (LP Version)</td>\n",
       "    </tr>\n",
       "    <tr>\n",
       "      <td>80040</td>\n",
       "      <td>SOGVKZV12A8C143863</td>\n",
       "      <td>2792</td>\n",
       "      <td>TRZZLCS128F92C6124</td>\n",
       "      <td>The Afghan Whigs</td>\n",
       "      <td>I Keeping Coming Back</td>\n",
       "    </tr>\n",
       "    <tr>\n",
       "      <td>122944</td>\n",
       "      <td>SOKPSCO12A58A7F0DF</td>\n",
       "      <td>2249</td>\n",
       "      <td>TRVIFBN128F9305CDD</td>\n",
       "      <td>RUN-DMC</td>\n",
       "      <td>Soul To Rock And Roll</td>\n",
       "    </tr>\n",
       "    <tr>\n",
       "      <td>63925</td>\n",
       "      <td>SOFKVPB12A58A7EE65</td>\n",
       "      <td>2056</td>\n",
       "      <td>TRMONLN128F4219024</td>\n",
       "      <td>Bobbi Humphrey</td>\n",
       "      <td>Chicago_ Damn</td>\n",
       "    </tr>\n",
       "    <tr>\n",
       "      <td>66901</td>\n",
       "      <td>SOFRRFT12A8C140C5C</td>\n",
       "      <td>2009</td>\n",
       "      <td>TREESKC128F92C5A00</td>\n",
       "      <td>Jack the Ripper</td>\n",
       "      <td>Words</td>\n",
       "    </tr>\n",
       "    <tr>\n",
       "      <td>226998</td>\n",
       "      <td>SOUJJUJ12A6D4F93BB</td>\n",
       "      <td>1949</td>\n",
       "      <td>TRDNXNU128F14A515D</td>\n",
       "      <td>Adrian Hood</td>\n",
       "      <td>Brown Eyed Blues</td>\n",
       "    </tr>\n",
       "    <tr>\n",
       "      <td>158304</td>\n",
       "      <td>SONVEPW12A8C140D80</td>\n",
       "      <td>1923</td>\n",
       "      <td>TRSHWSE128F429E7DF</td>\n",
       "      <td>Brasilian Tropical Orchestra</td>\n",
       "      <td>Dindi</td>\n",
       "    </tr>\n",
       "    <tr>\n",
       "      <td>217628</td>\n",
       "      <td>SOTLVSV12A8C136E8D</td>\n",
       "      <td>1909</td>\n",
       "      <td>TRBSBLT128F428653B</td>\n",
       "      <td>Xavier Rudd</td>\n",
       "      <td>Shiver</td>\n",
       "    </tr>\n",
       "    <tr>\n",
       "      <td>281975</td>\n",
       "      <td>SOZVPPQ12A8C13F7A8</td>\n",
       "      <td>1899</td>\n",
       "      <td>TRFNPEY128F428CFB5</td>\n",
       "      <td>The Ronettes</td>\n",
       "      <td>Silhouettes</td>\n",
       "    </tr>\n",
       "    <tr>\n",
       "      <td>139977</td>\n",
       "      <td>SOMDFLO12AB0184570</td>\n",
       "      <td>1887</td>\n",
       "      <td>TRUZTTN128F4271EE2</td>\n",
       "      <td>MFSB</td>\n",
       "      <td>Freddie's Dead</td>\n",
       "    </tr>\n",
       "    <tr>\n",
       "      <td>112206</td>\n",
       "      <td>SOJQTAY12A8C13AFDA</td>\n",
       "      <td>1879</td>\n",
       "      <td>TRFCKUE128F427AFCA</td>\n",
       "      <td>Colleen</td>\n",
       "      <td>Blue Sands</td>\n",
       "    </tr>\n",
       "    <tr>\n",
       "      <td>141337</td>\n",
       "      <td>SOMGONH12A8C1450B6</td>\n",
       "      <td>1830</td>\n",
       "      <td>TRAUXGG128F92E014C</td>\n",
       "      <td>Niños Mutantes</td>\n",
       "      <td>En Tus Ojos</td>\n",
       "    </tr>\n",
       "    <tr>\n",
       "      <td>37490</td>\n",
       "      <td>SODENVO12A6310D8C1</td>\n",
       "      <td>1830</td>\n",
       "      <td>TREVNQD128F147443B</td>\n",
       "      <td>Téléphone</td>\n",
       "      <td>Le Jour S'est Levé</td>\n",
       "    </tr>\n",
       "    <tr>\n",
       "      <td>44391</td>\n",
       "      <td>SODTUPB12A58A78A54</td>\n",
       "      <td>1713</td>\n",
       "      <td>TRPYYWZ12903CBCCED</td>\n",
       "      <td>Casino Mansion</td>\n",
       "      <td>Never Know</td>\n",
       "    </tr>\n",
       "  </tbody>\n",
       "</table>\n",
       "</div>"
      ],
      "text/plain": [
       "                   song_id  weight            track_id  \\\n",
       "38268   SODGGWN12A8C1366B5    3970  TRWUHJV128F425315B   \n",
       "157300  SONSTND12AB018516E    2963  TREORMB12903CBCFFE   \n",
       "80040   SOGVKZV12A8C143863    2792  TRZZLCS128F92C6124   \n",
       "122944  SOKPSCO12A58A7F0DF    2249  TRVIFBN128F9305CDD   \n",
       "63925   SOFKVPB12A58A7EE65    2056  TRMONLN128F4219024   \n",
       "66901   SOFRRFT12A8C140C5C    2009  TREESKC128F92C5A00   \n",
       "226998  SOUJJUJ12A6D4F93BB    1949  TRDNXNU128F14A515D   \n",
       "158304  SONVEPW12A8C140D80    1923  TRSHWSE128F429E7DF   \n",
       "217628  SOTLVSV12A8C136E8D    1909  TRBSBLT128F428653B   \n",
       "281975  SOZVPPQ12A8C13F7A8    1899  TRFNPEY128F428CFB5   \n",
       "139977  SOMDFLO12AB0184570    1887  TRUZTTN128F4271EE2   \n",
       "112206  SOJQTAY12A8C13AFDA    1879  TRFCKUE128F427AFCA   \n",
       "141337  SOMGONH12A8C1450B6    1830  TRAUXGG128F92E014C   \n",
       "37490   SODENVO12A6310D8C1    1830  TREVNQD128F147443B   \n",
       "44391   SODTUPB12A58A78A54    1713  TRPYYWZ12903CBCCED   \n",
       "\n",
       "                              artist                     title  \n",
       "38268                    The Members              Working Girl  \n",
       "157300                 Jason Falkner  I Go Astray (LP Version)  \n",
       "80040               The Afghan Whigs     I Keeping Coming Back  \n",
       "122944                       RUN-DMC     Soul To Rock And Roll  \n",
       "63925                 Bobbi Humphrey             Chicago_ Damn  \n",
       "66901                Jack the Ripper                     Words  \n",
       "226998                   Adrian Hood          Brown Eyed Blues  \n",
       "158304  Brasilian Tropical Orchestra                     Dindi  \n",
       "217628                   Xavier Rudd                    Shiver  \n",
       "281975                  The Ronettes               Silhouettes  \n",
       "139977                          MFSB            Freddie's Dead  \n",
       "112206                       Colleen                Blue Sands  \n",
       "141337                Niños Mutantes               En Tus Ojos  \n",
       "37490                      Téléphone        Le Jour S'est Levé  \n",
       "44391                 Casino Mansion                Never Know  "
      ]
     },
     "execution_count": 46,
     "metadata": {},
     "output_type": "execute_result"
    }
   ],
   "source": [
    "merged_df.sort_values('weight', ascending=False).head(15)"
   ]
  },
  {
   "cell_type": "markdown",
   "metadata": {},
   "source": [
    "#### Songs"
   ]
  },
  {
   "cell_type": "code",
   "execution_count": 71,
   "metadata": {
    "scrolled": false
   },
   "outputs": [
    {
     "data": {
      "image/png": "[encoded data removed]",
      "text/plain": [
       "<Figure size 1152x576 with 1 Axes>"
      ]
     },
     "metadata": {
      "needs_background": "light"
     },
     "output_type": "display_data"
    }
   ],
   "source": [
    "fig = plt.figure(figsize=(16,8))\n",
    "sns.distplot(merged_df['weight'].tolist(), bins=200, kde=False, rug=False, \\\n",
    "             hist_kws={\"linewidth\":3,\"alpha\":1,\"color\": \"#388eeb\"})\n",
    "plt.yscale('log')\n",
    "plt.xlabel('number of listened')\n",
    "plt.ylabel('number of songs')\n",
    "plt.show()"
   ]
  },
  {
   "cell_type": "code",
   "execution_count": null,
   "metadata": {},
   "outputs": [],
   "source": []
  },
  {
   "cell_type": "markdown",
   "metadata": {},
   "source": [
    "#### Users"
   ]
  },
  {
   "cell_type": "code",
   "execution_count": 72,
   "metadata": {},
   "outputs": [
    {
     "data": {
      "image/png": "[encoded data removed]",
      "text/plain": [
       "<Figure size 1152x576 with 1 Axes>"
      ]
     },
     "metadata": {
      "needs_background": "light"
     },
     "output_type": "display_data"
    }
   ],
   "source": [
    "grouped_df = df.groupby('user_id').sum().reset_index()\n",
    "fig = plt.figure(figsize=(16,8))\n",
    "sns.distplot(grouped_df['weight'].tolist(), bins=200, kde=False, rug=False, \\\n",
    "             hist_kws={\"linewidth\":3,\"alpha\":1,\"color\": \"#388eeb\"})\n",
    "plt.yscale('log')\n",
    "plt.xlabel('number of listening')\n",
    "plt.ylabel('number of users')\n",
    "plt.show()"
   ]
  },
  {
   "cell_type": "markdown",
   "metadata": {},
   "source": [
    "### Full Dataset"
   ]
  },
  {
   "cell_type": "code",
   "execution_count": 5,
   "metadata": {},
   "outputs": [
    {
     "data": {
      "text/html": [
       "<div>\n",
       "<style scoped>\n",
       "    .dataframe tbody tr th:only-of-type {\n",
       "        vertical-align: middle;\n",
       "    }\n",
       "\n",
       "    .dataframe tbody tr th {\n",
       "        vertical-align: top;\n",
       "    }\n",
       "\n",
       "    .dataframe thead th {\n",
       "        text-align: right;\n",
       "    }\n",
       "</style>\n",
       "<table border=\"1\" class=\"dataframe\">\n",
       "  <thead>\n",
       "    <tr style=\"text-align: right;\">\n",
       "      <th></th>\n",
       "      <th>user</th>\n",
       "      <th>song</th>\n",
       "      <th>weight</th>\n",
       "    </tr>\n",
       "  </thead>\n",
       "  <tbody>\n",
       "    <tr>\n",
       "      <td>0</td>\n",
       "      <td>b80344d063b5ccb3212f76538f3d9e43d87dca9e</td>\n",
       "      <td>SOAKIMP12A8C130995</td>\n",
       "      <td>1</td>\n",
       "    </tr>\n",
       "    <tr>\n",
       "      <td>1</td>\n",
       "      <td>b80344d063b5ccb3212f76538f3d9e43d87dca9e</td>\n",
       "      <td>SOAPDEY12A81C210A9</td>\n",
       "      <td>1</td>\n",
       "    </tr>\n",
       "    <tr>\n",
       "      <td>2</td>\n",
       "      <td>b80344d063b5ccb3212f76538f3d9e43d87dca9e</td>\n",
       "      <td>SOBBMDR12A8C13253B</td>\n",
       "      <td>2</td>\n",
       "    </tr>\n",
       "    <tr>\n",
       "      <td>3</td>\n",
       "      <td>b80344d063b5ccb3212f76538f3d9e43d87dca9e</td>\n",
       "      <td>SOBFNSP12AF72A0E22</td>\n",
       "      <td>1</td>\n",
       "    </tr>\n",
       "    <tr>\n",
       "      <td>4</td>\n",
       "      <td>b80344d063b5ccb3212f76538f3d9e43d87dca9e</td>\n",
       "      <td>SOBFOVM12A58A7D494</td>\n",
       "      <td>1</td>\n",
       "    </tr>\n",
       "  </tbody>\n",
       "</table>\n",
       "</div>"
      ],
      "text/plain": [
       "                                       user                song  weight\n",
       "0  b80344d063b5ccb3212f76538f3d9e43d87dca9e  SOAKIMP12A8C130995       1\n",
       "1  b80344d063b5ccb3212f76538f3d9e43d87dca9e  SOAPDEY12A81C210A9       1\n",
       "2  b80344d063b5ccb3212f76538f3d9e43d87dca9e  SOBBMDR12A8C13253B       2\n",
       "3  b80344d063b5ccb3212f76538f3d9e43d87dca9e  SOBFNSP12AF72A0E22       1\n",
       "4  b80344d063b5ccb3212f76538f3d9e43d87dca9e  SOBFOVM12A58A7D494       1"
      ]
     },
     "execution_count": 5,
     "metadata": {},
     "output_type": "execute_result"
    }
   ],
   "source": [
    "df = pd.read_csv('data/selected_triplet_full_dataset.csv')\n",
    "df.head()"
   ]
  },
  {
   "cell_type": "code",
   "execution_count": 6,
   "metadata": {},
   "outputs": [
    {
     "data": {
      "text/plain": [
       "(48373586, 3)"
      ]
     },
     "execution_count": 6,
     "metadata": {},
     "output_type": "execute_result"
    }
   ],
   "source": [
    "df.shape"
   ]
  },
  {
   "cell_type": "code",
   "execution_count": null,
   "metadata": {},
   "outputs": [],
   "source": [
    "fig = plt.figure(figsize=(16,8))\n",
    "sns.distplot(merged_df['weight'].tolist(), bins=200, kde=False, rug=False, \\\n",
    "             hist_kws={\"linewidth\":3,\"alpha\":1,\"color\": \"#388eeb\"})\n",
    "plt.yscale('log')\n",
    "plt.xlabel('number of listened')\n",
    "plt.ylabel('number of users')\n",
    "plt.show()"
   ]
  },
  {
   "cell_type": "markdown",
   "metadata": {},
   "source": [
    "### User"
   ]
  },
  {
   "cell_type": "code",
   "execution_count": 10,
   "metadata": {},
   "outputs": [
    {
     "data": {
      "image/png": "[encoded data removed]",
      "text/plain": [
       "<Figure size 1152x576 with 1 Axes>"
      ]
     },
     "metadata": {
      "needs_background": "light"
     },
     "output_type": "display_data"
    }
   ],
   "source": [
    "user_df = df.groupby('user').sum().reset_index()\n",
    "\n",
    "fig = plt.figure(figsize=(16,8))\n",
    "sns.distplot(user_df['weight'].tolist(), bins=200, kde=False, rug=False, \\\n",
    "             hist_kws={\"linewidth\":3,\"alpha\":1,\"color\": \"#388eeb\"})\n",
    "plt.yscale('log')\n",
    "plt.xlabel('number of listened')\n",
    "plt.ylabel('number of users')\n",
    "plt.show()\n"
   ]
  },
  {
   "cell_type": "markdown",
   "metadata": {},
   "source": [
    "### Song"
   ]
  },
  {
   "cell_type": "code",
   "execution_count": 9,
   "metadata": {},
   "outputs": [
    {
     "data": {
      "image/png": "[encoded data removed]",
      "text/plain": [
       "<Figure size 1152x576 with 1 Axes>"
      ]
     },
     "metadata": {
      "needs_background": "light"
     },
     "output_type": "display_data"
    }
   ],
   "source": [
    "song_df = df.groupby('song').sum().reset_index()\n",
    "\n",
    "fig = plt.figure(figsize=(16,8))\n",
    "sns.distplot(song_df['weight'].tolist(), bins=200, kde=False, rug=False, \\\n",
    "             hist_kws={\"linewidth\":3,\"alpha\":1,\"color\": \"#388eeb\"})\n",
    "plt.yscale('log')\n",
    "plt.xlabel('number of listened')\n",
    "plt.ylabel('number of songs')\n",
    "plt.show()\n"
   ]
  },
  {
   "cell_type": "code",
   "execution_count": null,
   "metadata": {},
   "outputs": [],
   "source": []
  }
 ],
 "metadata": {
  "kernelspec": {
   "display_name": "Python 3",
   "language": "python",
   "name": "python3"
  },
  "language_info": {
   "codemirror_mode": {
    "name": "ipython",
    "version": 3
   },
   "file_extension": ".py",
   "mimetype": "text/x-python",
   "name": "python",
   "nbconvert_exporter": "python",
   "pygments_lexer": "ipython3",
   "version": "3.7.4"
  }
 },
 "nbformat": 4,
 "nbformat_minor": 2
}
